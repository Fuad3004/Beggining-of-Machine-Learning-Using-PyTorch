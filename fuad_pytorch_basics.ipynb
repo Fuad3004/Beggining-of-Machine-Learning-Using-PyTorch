{
  "nbformat": 4,
  "nbformat_minor": 0,
  "metadata": {
    "colab": {
      "provenance": [],
      "include_colab_link": true
    },
    "kernelspec": {
      "name": "python3",
      "display_name": "Python 3"
    },
    "language_info": {
      "name": "python"
    },
    "gpuClass": "standard"
  },
  "cells": [
    {
      "cell_type": "markdown",
      "metadata": {
        "id": "view-in-github",
        "colab_type": "text"
      },
      "source": [
        "<a href=\"https://colab.research.google.com/github/Fuad3004/Beggining-of-Machine-Learning-Using-PyTorch/blob/main/fuad_pytorch_basics.ipynb\" target=\"_parent\"><img src=\"https://colab.research.google.com/assets/colab-badge.svg\" alt=\"Open In Colab\"/></a>"
      ]
    },
    {
      "cell_type": "markdown",
      "source": [
        "#Import"
      ],
      "metadata": {
        "id": "IMAFCu7nMoZ1"
      }
    },
    {
      "cell_type": "code",
      "source": [
        "import torch\n",
        "import pandas as pd\n",
        "import numpy as np\n",
        "import matplotlib.pyplot as plt\n",
        "\n",
        "print(torch.__version__)"
      ],
      "metadata": {
        "colab": {
          "base_uri": "https://localhost:8080/"
        },
        "id": "3zq5giJeEvJI",
        "outputId": "842a0735-43af-44c6-cf6c-b3bdd8391eaa"
      },
      "execution_count": null,
      "outputs": [
        {
          "output_type": "stream",
          "name": "stdout",
          "text": [
            "2.0.0+cu118\n"
          ]
        }
      ]
    },
    {
      "cell_type": "markdown",
      "source": [
        "#SCALER VECTOR"
      ],
      "metadata": {
        "id": "GEi5F1T9K2o2"
      }
    },
    {
      "cell_type": "markdown",
      "source": [
        "Creating Tensor\n",
        "\n",
        "Pytorch Tensor ---->>> https://pytorch.org/docs/stable/tensors.html\n"
      ],
      "metadata": {
        "id": "rfydQ1GLK1iJ"
      }
    },
    {
      "cell_type": "code",
      "source": [
        "#scaler\n",
        "scalar=torch.tensor(7)\n",
        "scalar"
      ],
      "metadata": {
        "colab": {
          "base_uri": "https://localhost:8080/"
        },
        "id": "16xcyQ3lOF7N",
        "outputId": "be7242ea-0dc4-4b94-c45e-38693c0da5e8"
      },
      "execution_count": null,
      "outputs": [
        {
          "output_type": "execute_result",
          "data": {
            "text/plain": [
              "tensor(7)"
            ]
          },
          "metadata": {},
          "execution_count": 101
        }
      ]
    },
    {
      "cell_type": "code",
      "source": [
        "scalar.ndim"
      ],
      "metadata": {
        "colab": {
          "base_uri": "https://localhost:8080/"
        },
        "id": "C5xxZ2SoOY5D",
        "outputId": "dfb429ea-df99-4208-9eeb-9873550cd3f3"
      },
      "execution_count": null,
      "outputs": [
        {
          "output_type": "execute_result",
          "data": {
            "text/plain": [
              "0"
            ]
          },
          "metadata": {},
          "execution_count": 102
        }
      ]
    },
    {
      "cell_type": "code",
      "source": [
        "#get tensor bask as python int\n",
        "scalar.item()"
      ],
      "metadata": {
        "colab": {
          "base_uri": "https://localhost:8080/"
        },
        "id": "cza_fZf9PWxn",
        "outputId": "712472df-ff92-49a2-dcde-869f1bc8cd72"
      },
      "execution_count": null,
      "outputs": [
        {
          "output_type": "execute_result",
          "data": {
            "text/plain": [
              "7"
            ]
          },
          "metadata": {},
          "execution_count": 103
        }
      ]
    },
    {
      "cell_type": "code",
      "source": [
        "#vector\n",
        "vector=torch.tensor([7,7])\n",
        "vector "
      ],
      "metadata": {
        "colab": {
          "base_uri": "https://localhost:8080/"
        },
        "id": "2ivNk1BjPc1i",
        "outputId": "c6b6e5a0-5a7e-4c33-bd1c-32db46c9dc6c"
      },
      "execution_count": null,
      "outputs": [
        {
          "output_type": "execute_result",
          "data": {
            "text/plain": [
              "tensor([7, 7])"
            ]
          },
          "metadata": {},
          "execution_count": 104
        }
      ]
    },
    {
      "cell_type": "code",
      "source": [
        "vector.ndim"
      ],
      "metadata": {
        "colab": {
          "base_uri": "https://localhost:8080/"
        },
        "id": "BgoJAbilXUO0",
        "outputId": "b7277328-df7a-4827-bf18-b97627302bf7"
      },
      "execution_count": null,
      "outputs": [
        {
          "output_type": "execute_result",
          "data": {
            "text/plain": [
              "1"
            ]
          },
          "metadata": {},
          "execution_count": 105
        }
      ]
    },
    {
      "cell_type": "code",
      "source": [
        "vector.shape"
      ],
      "metadata": {
        "colab": {
          "base_uri": "https://localhost:8080/"
        },
        "id": "nyjk2_ERXWD0",
        "outputId": "05fbd519-ecd9-4245-de0d-1b9bdc45b5cd"
      },
      "execution_count": null,
      "outputs": [
        {
          "output_type": "execute_result",
          "data": {
            "text/plain": [
              "torch.Size([2])"
            ]
          },
          "metadata": {},
          "execution_count": 106
        }
      ]
    },
    {
      "cell_type": "markdown",
      "source": [
        "#MATRIX"
      ],
      "metadata": {
        "id": "LWEFcWA1GFy5"
      }
    },
    {
      "cell_type": "code",
      "source": [
        "#MATRIX\n",
        "\n",
        "MATRIX = torch.tensor([[7,8], [9,10]])\n",
        "MATRIX"
      ],
      "metadata": {
        "colab": {
          "base_uri": "https://localhost:8080/"
        },
        "id": "IlngKizZXaPv",
        "outputId": "8dc6d582-eeda-4b24-8f01-91555e97cbb9"
      },
      "execution_count": null,
      "outputs": [
        {
          "output_type": "execute_result",
          "data": {
            "text/plain": [
              "tensor([[ 7,  8],\n",
              "        [ 9, 10]])"
            ]
          },
          "metadata": {},
          "execution_count": 107
        }
      ]
    },
    {
      "cell_type": "code",
      "source": [
        "MATRIX.ndim"
      ],
      "metadata": {
        "colab": {
          "base_uri": "https://localhost:8080/"
        },
        "id": "_C0bYboqX3p4",
        "outputId": "dfb695ef-428d-43b3-ae4e-b5044817df93"
      },
      "execution_count": null,
      "outputs": [
        {
          "output_type": "execute_result",
          "data": {
            "text/plain": [
              "2"
            ]
          },
          "metadata": {},
          "execution_count": 108
        }
      ]
    },
    {
      "cell_type": "code",
      "source": [
        "MATRIX.shape"
      ],
      "metadata": {
        "colab": {
          "base_uri": "https://localhost:8080/"
        },
        "id": "z9Kx3FgJX7HC",
        "outputId": "715eaf9e-05b2-4a5a-f389-241943aaf0b1"
      },
      "execution_count": null,
      "outputs": [
        {
          "output_type": "execute_result",
          "data": {
            "text/plain": [
              "torch.Size([2, 2])"
            ]
          },
          "metadata": {},
          "execution_count": 109
        }
      ]
    },
    {
      "cell_type": "code",
      "source": [
        "MATRIX[1]"
      ],
      "metadata": {
        "colab": {
          "base_uri": "https://localhost:8080/"
        },
        "id": "6BFOtslMX8g7",
        "outputId": "ac941fc9-0c48-4a59-f1b2-e15bfadce0fd"
      },
      "execution_count": null,
      "outputs": [
        {
          "output_type": "execute_result",
          "data": {
            "text/plain": [
              "tensor([ 9, 10])"
            ]
          },
          "metadata": {},
          "execution_count": 110
        }
      ]
    },
    {
      "cell_type": "code",
      "source": [
        "MATRIX[0]"
      ],
      "metadata": {
        "colab": {
          "base_uri": "https://localhost:8080/"
        },
        "id": "oQ-G2QyVYDwl",
        "outputId": "43359a59-b759-4de7-f600-1f32ab2fee76"
      },
      "execution_count": null,
      "outputs": [
        {
          "output_type": "execute_result",
          "data": {
            "text/plain": [
              "tensor([7, 8])"
            ]
          },
          "metadata": {},
          "execution_count": 111
        }
      ]
    },
    {
      "cell_type": "code",
      "source": [
        "MATRIX[1,1]"
      ],
      "metadata": {
        "colab": {
          "base_uri": "https://localhost:8080/"
        },
        "id": "zqdhDoJNYGmv",
        "outputId": "3c2055b1-0664-4843-a1cd-40106fa82f37"
      },
      "execution_count": null,
      "outputs": [
        {
          "output_type": "execute_result",
          "data": {
            "text/plain": [
              "tensor(10)"
            ]
          },
          "metadata": {},
          "execution_count": 112
        }
      ]
    },
    {
      "cell_type": "markdown",
      "source": [
        "#TENSOR\n"
      ],
      "metadata": {
        "id": "31bE9hFkGKyh"
      }
    },
    {
      "cell_type": "code",
      "source": [
        "# Tensor\n",
        "TENSOR = torch.tensor([[[1, 2, 3],\n",
        "                        [3, 6, 9],\n",
        "                        [2, 4, 5]]])\n",
        "TENSOR"
      ],
      "metadata": {
        "colab": {
          "base_uri": "https://localhost:8080/"
        },
        "id": "TZ3LOKGXNQvP",
        "outputId": "42527c70-ea24-4745-d234-d94cb9fd91d3"
      },
      "execution_count": null,
      "outputs": [
        {
          "output_type": "execute_result",
          "data": {
            "text/plain": [
              "tensor([[[1, 2, 3],\n",
              "         [3, 6, 9],\n",
              "         [2, 4, 5]]])"
            ]
          },
          "metadata": {},
          "execution_count": 113
        }
      ]
    },
    {
      "cell_type": "code",
      "source": [
        "TENSOR.ndim\n"
      ],
      "metadata": {
        "colab": {
          "base_uri": "https://localhost:8080/"
        },
        "id": "klbUcBdgZLAo",
        "outputId": "a93d31ff-5421-48ff-90dd-29d0986b7446"
      },
      "execution_count": null,
      "outputs": [
        {
          "output_type": "execute_result",
          "data": {
            "text/plain": [
              "3"
            ]
          },
          "metadata": {},
          "execution_count": 114
        }
      ]
    },
    {
      "cell_type": "code",
      "source": [
        "TENSOR.shape"
      ],
      "metadata": {
        "colab": {
          "base_uri": "https://localhost:8080/"
        },
        "id": "VvmnB-zBZWcG",
        "outputId": "cdd8df52-c90c-444a-d823-9683406cca44"
      },
      "execution_count": null,
      "outputs": [
        {
          "output_type": "execute_result",
          "data": {
            "text/plain": [
              "torch.Size([1, 3, 3])"
            ]
          },
          "metadata": {},
          "execution_count": 115
        }
      ]
    },
    {
      "cell_type": "code",
      "source": [
        "TENSOR[0] #indexing"
      ],
      "metadata": {
        "colab": {
          "base_uri": "https://localhost:8080/"
        },
        "id": "IqKjszzAZZBn",
        "outputId": "b95062f2-5624-40df-9ad0-e3e30e3a33c4"
      },
      "execution_count": null,
      "outputs": [
        {
          "output_type": "execute_result",
          "data": {
            "text/plain": [
              "tensor([[1, 2, 3],\n",
              "        [3, 6, 9],\n",
              "        [2, 4, 5]])"
            ]
          },
          "metadata": {},
          "execution_count": 116
        }
      ]
    },
    {
      "cell_type": "code",
      "source": [
        "TENSOR2=torch.tensor([[1,2,3],\n",
        "                      [4,5,6],\n",
        "                      [7,8,9]])\n",
        "TENSOR2\n"
      ],
      "metadata": {
        "colab": {
          "base_uri": "https://localhost:8080/"
        },
        "id": "-2kTL5GqZpIg",
        "outputId": "0f4510df-daa4-4a81-82d9-f37d07baf912"
      },
      "execution_count": null,
      "outputs": [
        {
          "output_type": "execute_result",
          "data": {
            "text/plain": [
              "tensor([[1, 2, 3],\n",
              "        [4, 5, 6],\n",
              "        [7, 8, 9]])"
            ]
          },
          "metadata": {},
          "execution_count": 117
        }
      ]
    },
    {
      "cell_type": "code",
      "source": [
        "TENSOR2.shape"
      ],
      "metadata": {
        "colab": {
          "base_uri": "https://localhost:8080/"
        },
        "id": "Ky1GwKBIaRbY",
        "outputId": "cf34dd3f-c8c8-4ce6-948e-170a034d8e95"
      },
      "execution_count": null,
      "outputs": [
        {
          "output_type": "execute_result",
          "data": {
            "text/plain": [
              "torch.Size([3, 3])"
            ]
          },
          "metadata": {},
          "execution_count": 118
        }
      ]
    },
    {
      "cell_type": "code",
      "source": [
        "TENSOR2.item"
      ],
      "metadata": {
        "id": "alejScRFaTBh",
        "colab": {
          "base_uri": "https://localhost:8080/"
        },
        "outputId": "823eab9d-dd2d-4dbc-c98b-d5f7b1658905"
      },
      "execution_count": null,
      "outputs": [
        {
          "output_type": "execute_result",
          "data": {
            "text/plain": [
              "<function Tensor.item>"
            ]
          },
          "metadata": {},
          "execution_count": 119
        }
      ]
    },
    {
      "cell_type": "markdown",
      "source": [
        "\n",
        "#Random tensors\n",
        "\n",
        "Start with random numbers -> look at data -> update random numbers -> look at data -> update random numbers..."
      ],
      "metadata": {
        "id": "oUp5WEyc4ABr"
      }
    },
    {
      "cell_type": "markdown",
      "source": [],
      "metadata": {
        "id": "75Fv-rEQ4AAs"
      }
    },
    {
      "cell_type": "code",
      "source": [
        "#Ramdom Tensors\n",
        "random_tensor= torch.rand(3,4)\n",
        "random_tensor\n"
      ],
      "metadata": {
        "colab": {
          "base_uri": "https://localhost:8080/"
        },
        "id": "e985JjnR3KKV",
        "outputId": "7b4cf87b-e404-45b7-815b-53d8fe946c8c"
      },
      "execution_count": null,
      "outputs": [
        {
          "output_type": "execute_result",
          "data": {
            "text/plain": [
              "tensor([[0.5747, 0.1466, 0.0230, 0.8191],\n",
              "        [0.7258, 0.7016, 0.6857, 0.9007],\n",
              "        [0.0667, 0.6095, 0.4999, 0.0963]])"
            ]
          },
          "metadata": {},
          "execution_count": 120
        }
      ]
    },
    {
      "cell_type": "code",
      "source": [
        "random_tensor.ndim"
      ],
      "metadata": {
        "colab": {
          "base_uri": "https://localhost:8080/"
        },
        "id": "SC59E0g-4-LX",
        "outputId": "974fbaa1-2055-41d2-f11c-2db6d884e0a0"
      },
      "execution_count": null,
      "outputs": [
        {
          "output_type": "execute_result",
          "data": {
            "text/plain": [
              "2"
            ]
          },
          "metadata": {},
          "execution_count": 121
        }
      ]
    },
    {
      "cell_type": "code",
      "source": [
        "random_tensor[0]"
      ],
      "metadata": {
        "colab": {
          "base_uri": "https://localhost:8080/"
        },
        "id": "K81hHPlX5Vj9",
        "outputId": "8c73384f-23f1-4155-f748-364f0fb90adb"
      },
      "execution_count": null,
      "outputs": [
        {
          "output_type": "execute_result",
          "data": {
            "text/plain": [
              "tensor([0.5747, 0.1466, 0.0230, 0.8191])"
            ]
          },
          "metadata": {},
          "execution_count": 122
        }
      ]
    },
    {
      "cell_type": "code",
      "source": [
        "random_tensor2=torch.rand(3,10,2)\n",
        "random_tensor2"
      ],
      "metadata": {
        "colab": {
          "base_uri": "https://localhost:8080/"
        },
        "id": "vdFAxNPP52H_",
        "outputId": "3693dd2f-9235-4b75-8a5e-740b4f2fe129"
      },
      "execution_count": null,
      "outputs": [
        {
          "output_type": "execute_result",
          "data": {
            "text/plain": [
              "tensor([[[0.5164, 0.4108],\n",
              "         [0.0310, 0.3770],\n",
              "         [0.5461, 0.0256],\n",
              "         [0.7394, 0.4028],\n",
              "         [0.0893, 0.2233],\n",
              "         [0.3095, 0.5062],\n",
              "         [0.5673, 0.7122],\n",
              "         [0.3402, 0.9813],\n",
              "         [0.5067, 0.0453],\n",
              "         [0.9053, 0.3488]],\n",
              "\n",
              "        [[0.6839, 0.4011],\n",
              "         [0.5195, 0.9477],\n",
              "         [0.9664, 0.9561],\n",
              "         [0.4043, 0.8070],\n",
              "         [0.0641, 0.2238],\n",
              "         [0.9114, 0.3668],\n",
              "         [0.0340, 0.2251],\n",
              "         [0.7576, 0.1723],\n",
              "         [0.1626, 0.6955],\n",
              "         [0.9111, 0.4900]],\n",
              "\n",
              "        [[0.4112, 0.3171],\n",
              "         [0.8019, 0.6041],\n",
              "         [0.9768, 0.2952],\n",
              "         [0.3858, 0.0725],\n",
              "         [0.5509, 0.1251],\n",
              "         [0.3129, 0.4431],\n",
              "         [0.7349, 0.6230],\n",
              "         [0.0829, 0.0212],\n",
              "         [0.7974, 0.5669],\n",
              "         [0.9900, 0.9365]]])"
            ]
          },
          "metadata": {},
          "execution_count": 123
        }
      ]
    },
    {
      "cell_type": "code",
      "source": [
        "random_tensor2.shape"
      ],
      "metadata": {
        "colab": {
          "base_uri": "https://localhost:8080/"
        },
        "id": "DArfx-B56YUz",
        "outputId": "de2c6cd1-52af-4f81-b92d-63417a4757fe"
      },
      "execution_count": null,
      "outputs": [
        {
          "output_type": "execute_result",
          "data": {
            "text/plain": [
              "torch.Size([3, 10, 2])"
            ]
          },
          "metadata": {},
          "execution_count": 124
        }
      ]
    },
    {
      "cell_type": "markdown",
      "source": [
        "#Zeros and Ones"
      ],
      "metadata": {
        "id": "YdOhgbFbDWVk"
      }
    },
    {
      "cell_type": "code",
      "source": [
        "Zeros=torch.zeros(3,4)\n",
        "Zeros"
      ],
      "metadata": {
        "id": "EbmWAjsF6zPL",
        "colab": {
          "base_uri": "https://localhost:8080/"
        },
        "outputId": "957744fa-f355-426e-f384-ab57e5600cde"
      },
      "execution_count": null,
      "outputs": [
        {
          "output_type": "execute_result",
          "data": {
            "text/plain": [
              "tensor([[0., 0., 0., 0.],\n",
              "        [0., 0., 0., 0.],\n",
              "        [0., 0., 0., 0.]])"
            ]
          },
          "metadata": {},
          "execution_count": 125
        }
      ]
    },
    {
      "cell_type": "code",
      "source": [
        "Zeros.dtype"
      ],
      "metadata": {
        "colab": {
          "base_uri": "https://localhost:8080/"
        },
        "id": "1DZSpsHRDnWO",
        "outputId": "53564e2d-d142-46c2-eb73-1214fa5f73b7"
      },
      "execution_count": null,
      "outputs": [
        {
          "output_type": "execute_result",
          "data": {
            "text/plain": [
              "torch.float32"
            ]
          },
          "metadata": {},
          "execution_count": 126
        }
      ]
    },
    {
      "cell_type": "code",
      "source": [
        "ones=torch.ones(2,4)\n",
        "ones"
      ],
      "metadata": {
        "colab": {
          "base_uri": "https://localhost:8080/"
        },
        "id": "Uuoa_6-PD6cw",
        "outputId": "1a95f9d5-e7bd-4fe6-e15d-a101028a281d"
      },
      "execution_count": null,
      "outputs": [
        {
          "output_type": "execute_result",
          "data": {
            "text/plain": [
              "tensor([[1., 1., 1., 1.],\n",
              "        [1., 1., 1., 1.]])"
            ]
          },
          "metadata": {},
          "execution_count": 127
        }
      ]
    },
    {
      "cell_type": "code",
      "source": [
        "ones.dtype"
      ],
      "metadata": {
        "colab": {
          "base_uri": "https://localhost:8080/"
        },
        "id": "CjQymavxEBy9",
        "outputId": "3cc6d688-20ab-400c-95a0-32378eaf3634"
      },
      "execution_count": null,
      "outputs": [
        {
          "output_type": "execute_result",
          "data": {
            "text/plain": [
              "torch.float32"
            ]
          },
          "metadata": {},
          "execution_count": 128
        }
      ]
    },
    {
      "cell_type": "markdown",
      "source": [
        "#Creating a range and tensors like\n"
      ],
      "metadata": {
        "id": "eB0DLNgPEGtX"
      }
    },
    {
      "cell_type": "code",
      "source": [
        "torch.range(0,10)"
      ],
      "metadata": {
        "colab": {
          "base_uri": "https://localhost:8080/"
        },
        "id": "zvm-tLucEQMr",
        "outputId": "8eaddaff-52dd-4ec2-b504-fbd81ef3581c"
      },
      "execution_count": null,
      "outputs": [
        {
          "output_type": "stream",
          "name": "stderr",
          "text": [
            "<ipython-input-129-dfdec9b83f7d>:1: UserWarning: torch.range is deprecated and will be removed in a future release because its behavior is inconsistent with Python's range builtin. Instead, use torch.arange, which produces values in [start, end).\n",
            "  torch.range(0,10)\n"
          ]
        },
        {
          "output_type": "execute_result",
          "data": {
            "text/plain": [
              "tensor([ 0.,  1.,  2.,  3.,  4.,  5.,  6.,  7.,  8.,  9., 10.])"
            ]
          },
          "metadata": {},
          "execution_count": 129
        }
      ]
    },
    {
      "cell_type": "code",
      "source": [
        "torch.arange(0,10)"
      ],
      "metadata": {
        "colab": {
          "base_uri": "https://localhost:8080/"
        },
        "id": "z6lgOO7kETiX",
        "outputId": "625e6fc6-862d-4f99-f564-4d6172c7112a"
      },
      "execution_count": null,
      "outputs": [
        {
          "output_type": "execute_result",
          "data": {
            "text/plain": [
              "tensor([0, 1, 2, 3, 4, 5, 6, 7, 8, 9])"
            ]
          },
          "metadata": {},
          "execution_count": 130
        }
      ]
    },
    {
      "cell_type": "code",
      "source": [
        " a=torch.arange(start=1, end=100, step=5)"
      ],
      "metadata": {
        "id": "MGgl3yCmEYAh"
      },
      "execution_count": null,
      "outputs": []
    },
    {
      "cell_type": "code",
      "source": [
        "#creating tensors like\n",
        "\n",
        "ten_zeros= torch.zeros_like(input=a)\n",
        "ten_zeros"
      ],
      "metadata": {
        "colab": {
          "base_uri": "https://localhost:8080/"
        },
        "id": "jkSm6JHxGjMB",
        "outputId": "ffe76fc9-a071-431e-f5d1-f4c86ba82479"
      },
      "execution_count": null,
      "outputs": [
        {
          "output_type": "execute_result",
          "data": {
            "text/plain": [
              "tensor([0, 0, 0, 0, 0, 0, 0, 0, 0, 0, 0, 0, 0, 0, 0, 0, 0, 0, 0, 0])"
            ]
          },
          "metadata": {},
          "execution_count": 132
        }
      ]
    },
    {
      "cell_type": "markdown",
      "source": [
        "#Tensor Datatypes"
      ],
      "metadata": {
        "id": "u3FD3GCQHYCi"
      }
    },
    {
      "cell_type": "code",
      "source": [
        "float_32_tensor= torch.tensor([3.0,6.0,9.0], dtype=None)\n",
        "float_32_tensor"
      ],
      "metadata": {
        "colab": {
          "base_uri": "https://localhost:8080/"
        },
        "id": "KiW5harjHKl4",
        "outputId": "2722f698-6571-4398-a246-ac0446e0d0af"
      },
      "execution_count": null,
      "outputs": [
        {
          "output_type": "execute_result",
          "data": {
            "text/plain": [
              "tensor([3., 6., 9.])"
            ]
          },
          "metadata": {},
          "execution_count": 133
        }
      ]
    },
    {
      "cell_type": "code",
      "source": [
        "float_32_tensor.dtype #default is float"
      ],
      "metadata": {
        "colab": {
          "base_uri": "https://localhost:8080/"
        },
        "id": "3E6KQj1DH0YB",
        "outputId": "f88d0fc8-1f37-47f0-8d41-0df3d8b8ed17"
      },
      "execution_count": null,
      "outputs": [
        {
          "output_type": "execute_result",
          "data": {
            "text/plain": [
              "torch.float32"
            ]
          },
          "metadata": {},
          "execution_count": 134
        }
      ]
    },
    {
      "cell_type": "code",
      "source": [
        "float_16_tensor= torch.tensor([3.0,6.0,9.0], dtype=torch.float16)\n",
        "float_16_tensor"
      ],
      "metadata": {
        "colab": {
          "base_uri": "https://localhost:8080/"
        },
        "id": "3FRtlCRxIdQo",
        "outputId": "ec6980e7-6081-4efe-8c86-0a4b761554dd"
      },
      "execution_count": null,
      "outputs": [
        {
          "output_type": "execute_result",
          "data": {
            "text/plain": [
              "tensor([3., 6., 9.], dtype=torch.float16)"
            ]
          },
          "metadata": {},
          "execution_count": 135
        }
      ]
    },
    {
      "cell_type": "code",
      "source": [
        "float_16_tensor.dtype "
      ],
      "metadata": {
        "colab": {
          "base_uri": "https://localhost:8080/"
        },
        "id": "1vsyv7IoIvL6",
        "outputId": "cd49c1e3-c17a-4092-b51b-49f54b2054e9"
      },
      "execution_count": null,
      "outputs": [
        {
          "output_type": "execute_result",
          "data": {
            "text/plain": [
              "torch.float16"
            ]
          },
          "metadata": {},
          "execution_count": 136
        }
      ]
    },
    {
      "cell_type": "markdown",
      "source": [
        "**NOTE** : Tensor datatypes is one of the 3 bigg errors you will run into with PyTorch & Deep learning.\n",
        "1. Tensors are not right datatype......\n",
        "2. Tensor are in not right shape\n",
        "3. Tensors not on the right device"
      ],
      "metadata": {
        "id": "Zt4I5LZ5K9rS"
      }
    },
    {
      "cell_type": "code",
      "source": [
        "float_tensor=torch.tensor([3.0,6.0,9.0], \n",
        "                          dtype=None,\n",
        "                          device=None, #cpu or gpu set korte parbo.cpu hole device=\"cpu\"...gpu hole device=\"cuda\",\n",
        "                          requires_grad=False) #wheather or not to track gradients with this tensors operations\n",
        "float_tensor"
      ],
      "metadata": {
        "colab": {
          "base_uri": "https://localhost:8080/"
        },
        "id": "-pL_qEo6I0ad",
        "outputId": "63acca98-182d-4813-d3ee-d94117b223c9"
      },
      "execution_count": null,
      "outputs": [
        {
          "output_type": "execute_result",
          "data": {
            "text/plain": [
              "tensor([3., 6., 9.])"
            ]
          },
          "metadata": {},
          "execution_count": 137
        }
      ]
    },
    {
      "cell_type": "code",
      "source": [
        "float_tensor.dtype"
      ],
      "metadata": {
        "colab": {
          "base_uri": "https://localhost:8080/"
        },
        "id": "SoPpu6MdKPZa",
        "outputId": "4034c4a5-492d-4f19-eba7-e713b764d31d"
      },
      "execution_count": null,
      "outputs": [
        {
          "output_type": "execute_result",
          "data": {
            "text/plain": [
              "torch.float32"
            ]
          },
          "metadata": {},
          "execution_count": 138
        }
      ]
    },
    {
      "cell_type": "markdown",
      "source": [
        "#Datatype conversion\n",
        "\n",
        "\n"
      ],
      "metadata": {
        "id": "dXS6Lxk2MjMb"
      }
    },
    {
      "cell_type": "code",
      "source": [
        "float_16=float_32_tensor.type(torch.float16)"
      ],
      "metadata": {
        "id": "ZBTLdJijLl7L"
      },
      "execution_count": null,
      "outputs": []
    },
    {
      "cell_type": "code",
      "source": [
        "float_16.dtype"
      ],
      "metadata": {
        "colab": {
          "base_uri": "https://localhost:8080/"
        },
        "id": "K-cHUxZqMeMy",
        "outputId": "b0eb9e46-672d-4cc6-d5f5-cf1085003ccb"
      },
      "execution_count": null,
      "outputs": [
        {
          "output_type": "execute_result",
          "data": {
            "text/plain": [
              "torch.float16"
            ]
          },
          "metadata": {},
          "execution_count": 140
        }
      ]
    },
    {
      "cell_type": "code",
      "source": [
        "float_tensor*float_32_tensor"
      ],
      "metadata": {
        "id": "xqrviFk2MiPl",
        "colab": {
          "base_uri": "https://localhost:8080/"
        },
        "outputId": "72f0524b-4ee4-4c88-9920-ebb6b839a4ae"
      },
      "execution_count": null,
      "outputs": [
        {
          "output_type": "execute_result",
          "data": {
            "text/plain": [
              "tensor([ 9., 36., 81.])"
            ]
          },
          "metadata": {},
          "execution_count": 141
        }
      ]
    },
    {
      "cell_type": "code",
      "source": [
        "another=torch.tensor([3,6,9], dtype=torch.long)"
      ],
      "metadata": {
        "id": "nxa0aZR5zkAj"
      },
      "execution_count": null,
      "outputs": []
    },
    {
      "cell_type": "code",
      "source": [
        "another"
      ],
      "metadata": {
        "colab": {
          "base_uri": "https://localhost:8080/"
        },
        "id": "eshxBK_n1x-8",
        "outputId": "505e6ebc-ee5c-43de-c3d0-242e2d1bda4f"
      },
      "execution_count": null,
      "outputs": [
        {
          "output_type": "execute_result",
          "data": {
            "text/plain": [
              "tensor([3, 6, 9])"
            ]
          },
          "metadata": {},
          "execution_count": 143
        }
      ]
    },
    {
      "cell_type": "code",
      "source": [
        "float_32_tensor * another\n"
      ],
      "metadata": {
        "colab": {
          "base_uri": "https://localhost:8080/"
        },
        "id": "UV11b0VQ10it",
        "outputId": "b15e9be7-5833-4d12-e2d4-0c71c56a5bf8"
      },
      "execution_count": null,
      "outputs": [
        {
          "output_type": "execute_result",
          "data": {
            "text/plain": [
              "tensor([ 9., 36., 81.])"
            ]
          },
          "metadata": {},
          "execution_count": 144
        }
      ]
    },
    {
      "cell_type": "markdown",
      "source": [
        "#Getting information from tensors\n",
        "\n",
        "**NOTE** : Tensor datatypes is one of the 3 bigg errors you will run into with PyTorch & Deep learning.\n",
        "1. Tensors are not right datatype......for this we can check tensor.dtype\n",
        "2. Tensor are in not right shape........we can use tensor.shape\n",
        "3. Tensors not on the right device........ we can use tensor.device "
      ],
      "metadata": {
        "id": "CK3QEoeH2VHm"
      }
    },
    {
      "cell_type": "code",
      "source": [
        "#create a tensor\n",
        "some_tensor=torch.rand(3,4)\n",
        "some_tensor"
      ],
      "metadata": {
        "colab": {
          "base_uri": "https://localhost:8080/"
        },
        "id": "3nOX4jsm15hE",
        "outputId": "979f61e7-1f18-455c-bebe-9d0ddbb36941"
      },
      "execution_count": null,
      "outputs": [
        {
          "output_type": "execute_result",
          "data": {
            "text/plain": [
              "tensor([[0.8589, 0.3378, 0.0059, 0.2630],\n",
              "        [0.6401, 0.8144, 0.3612, 0.8151],\n",
              "        [0.7251, 0.9677, 0.1768, 0.2126]])"
            ]
          },
          "metadata": {},
          "execution_count": 145
        }
      ]
    },
    {
      "cell_type": "code",
      "source": [
        "some_tensor.size(), some_tensor.shape      #duita e same ashe whatever i want I can use but .shape is more preferable "
      ],
      "metadata": {
        "colab": {
          "base_uri": "https://localhost:8080/"
        },
        "id": "V3c3FUq85hGH",
        "outputId": "a8d28342-24b6-46ed-a39f-1474e9cbc13c"
      },
      "execution_count": null,
      "outputs": [
        {
          "output_type": "execute_result",
          "data": {
            "text/plain": [
              "(torch.Size([3, 4]), torch.Size([3, 4]))"
            ]
          },
          "metadata": {},
          "execution_count": 146
        }
      ]
    },
    {
      "cell_type": "code",
      "source": [
        "print(some_tensor)\n",
        "print(f\"Datatype of tensor: {some_tensor.dtype}\")\n",
        "print(f\"Shape of tensor: {some_tensor.size()}\")\n",
        "print(f\"Shape of tensor: {some_tensor.shape}\")\n",
        "print(f\"Device tensor is on {some_tensor.device}\")"
      ],
      "metadata": {
        "colab": {
          "base_uri": "https://localhost:8080/"
        },
        "id": "yh9igVFS5Ci0",
        "outputId": "a1d5b5fa-f2f3-4077-cdd6-ff5c189eda7d"
      },
      "execution_count": null,
      "outputs": [
        {
          "output_type": "stream",
          "name": "stdout",
          "text": [
            "tensor([[0.8589, 0.3378, 0.0059, 0.2630],\n",
            "        [0.6401, 0.8144, 0.3612, 0.8151],\n",
            "        [0.7251, 0.9677, 0.1768, 0.2126]])\n",
            "Datatype of tensor: torch.float32\n",
            "Shape of tensor: torch.Size([3, 4])\n",
            "Shape of tensor: torch.Size([3, 4])\n",
            "Device tensor is on cpu\n"
          ]
        }
      ]
    },
    {
      "cell_type": "code",
      "source": [
        "#excercise"
      ],
      "metadata": {
        "id": "Scw-hxV45ZO4"
      },
      "execution_count": null,
      "outputs": []
    },
    {
      "cell_type": "code",
      "source": [
        "exercise=torch.rand(4,5)\n",
        "exercise"
      ],
      "metadata": {
        "colab": {
          "base_uri": "https://localhost:8080/"
        },
        "id": "gSbqjUY-6vpi",
        "outputId": "fd572395-8e2e-4b04-8846-3cbfce4f5898"
      },
      "execution_count": null,
      "outputs": [
        {
          "output_type": "execute_result",
          "data": {
            "text/plain": [
              "tensor([[0.3254, 0.8724, 0.9633, 0.5420, 0.5213],\n",
              "        [0.1031, 0.6045, 0.7802, 0.7148, 0.9816],\n",
              "        [0.8643, 0.6884, 0.8394, 0.0155, 0.0179],\n",
              "        [0.6890, 0.5938, 0.4136, 0.3543, 0.7695]])"
            ]
          },
          "metadata": {},
          "execution_count": 149
        }
      ]
    },
    {
      "cell_type": "code",
      "source": [
        "print(f\"datatype of exercise is {exercise.dtype}\")\n",
        "print(f\"shape of the tensor {exercise.shape}\")\n",
        "print(f\"device of the tensor {exercise.device}\")"
      ],
      "metadata": {
        "colab": {
          "base_uri": "https://localhost:8080/"
        },
        "id": "M5TImfJq61st",
        "outputId": "0ba6c886-ac17-4a00-92e7-b41a2aecf0ad"
      },
      "execution_count": null,
      "outputs": [
        {
          "output_type": "stream",
          "name": "stdout",
          "text": [
            "datatype of exercise is torch.float32\n",
            "shape of the tensor torch.Size([4, 5])\n",
            "device of the tensor cpu\n"
          ]
        }
      ]
    },
    {
      "cell_type": "code",
      "source": [
        "exercise16 = exercise.type(torch.float16)\n",
        "exercise16.dtype"
      ],
      "metadata": {
        "colab": {
          "base_uri": "https://localhost:8080/"
        },
        "id": "o70pxhIF7Smm",
        "outputId": "81f58e51-4f2f-478f-b4d4-0fcff3badfd7"
      },
      "execution_count": null,
      "outputs": [
        {
          "output_type": "execute_result",
          "data": {
            "text/plain": [
              "torch.float16"
            ]
          },
          "metadata": {},
          "execution_count": 151
        }
      ]
    },
    {
      "cell_type": "markdown",
      "source": [
        "#Manipulating Tensors (tensons operations)\n",
        "1.   Addition\n",
        "2.   Subtraction\n",
        "\n",
        "1.   Multiplication (Element wise)\n",
        "\n",
        "1.   Matrix Multiplication\n",
        "2.   Division\n",
        "\n",
        "\n",
        "\n"
      ],
      "metadata": {
        "id": "RWgTblep9eUh"
      }
    },
    {
      "cell_type": "code",
      "source": [
        "tensor= torch.tensor([1,2,3]) #Addition 10 with each element\n",
        "tensor+10"
      ],
      "metadata": {
        "colab": {
          "base_uri": "https://localhost:8080/"
        },
        "id": "E0PBksc59-nh",
        "outputId": "dee63d69-fb95-4b17-e16f-e0121b650ebc"
      },
      "execution_count": null,
      "outputs": [
        {
          "output_type": "execute_result",
          "data": {
            "text/plain": [
              "tensor([11, 12, 13])"
            ]
          },
          "metadata": {},
          "execution_count": 152
        }
      ]
    },
    {
      "cell_type": "code",
      "source": [
        "tensor*10"
      ],
      "metadata": {
        "colab": {
          "base_uri": "https://localhost:8080/"
        },
        "id": "RsH24MNh-niw",
        "outputId": "d15fcf8d-9dc4-4e43-fcd9-f1adde5c50fc"
      },
      "execution_count": null,
      "outputs": [
        {
          "output_type": "execute_result",
          "data": {
            "text/plain": [
              "tensor([10, 20, 30])"
            ]
          },
          "metadata": {},
          "execution_count": 153
        }
      ]
    },
    {
      "cell_type": "code",
      "source": [
        "tensor-10"
      ],
      "metadata": {
        "colab": {
          "base_uri": "https://localhost:8080/"
        },
        "id": "7HQAf91C-084",
        "outputId": "5a7fe570-4080-4df0-a8a7-ab9f4301a992"
      },
      "execution_count": null,
      "outputs": [
        {
          "output_type": "execute_result",
          "data": {
            "text/plain": [
              "tensor([-9, -8, -7])"
            ]
          },
          "metadata": {},
          "execution_count": 154
        }
      ]
    },
    {
      "cell_type": "code",
      "source": [
        "#try out inbuilt function\n",
        "torch.mul(tensor,10)"
      ],
      "metadata": {
        "colab": {
          "base_uri": "https://localhost:8080/"
        },
        "id": "GlgEnabU-3Ox",
        "outputId": "49c244c1-91ea-41f2-8e5d-75d117d4e28e"
      },
      "execution_count": null,
      "outputs": [
        {
          "output_type": "execute_result",
          "data": {
            "text/plain": [
              "tensor([10, 20, 30])"
            ]
          },
          "metadata": {},
          "execution_count": 155
        }
      ]
    },
    {
      "cell_type": "code",
      "source": [
        "torch.add(tensor,2)\n"
      ],
      "metadata": {
        "colab": {
          "base_uri": "https://localhost:8080/"
        },
        "id": "SJP46HMV_Gxi",
        "outputId": "85fd54c8-7b3c-4d03-83cd-7e3dea45d9a0"
      },
      "execution_count": null,
      "outputs": [
        {
          "output_type": "execute_result",
          "data": {
            "text/plain": [
              "tensor([3, 4, 5])"
            ]
          },
          "metadata": {},
          "execution_count": 156
        }
      ]
    },
    {
      "cell_type": "markdown",
      "source": [
        "# Matrix multiplication:\n",
        "\n",
        "Two ways:\n",
        "1. Elements-wise multiplication\n",
        "2. Matrix multiplication(dot product)\n"
      ],
      "metadata": {
        "id": "b07wDONZC6P0"
      }
    },
    {
      "cell_type": "code",
      "source": [
        "#Element wise multiplication\n",
        "\n",
        "print(tensor,\"*\", tensor)\n",
        "print(f\"Equals:{tensor*tensor}\")"
      ],
      "metadata": {
        "colab": {
          "base_uri": "https://localhost:8080/"
        },
        "id": "EQ0LIdYbDloY",
        "outputId": "f5c1dc70-5a2c-4412-e1dd-e43a01bf6760"
      },
      "execution_count": null,
      "outputs": [
        {
          "output_type": "stream",
          "name": "stdout",
          "text": [
            "tensor([1, 2, 3]) * tensor([1, 2, 3])\n",
            "Equals:tensor([1, 4, 9])\n"
          ]
        }
      ]
    },
    {
      "cell_type": "code",
      "source": [
        "#matrix wise multiplication\n",
        "\n",
        "\n",
        "torch.matmul(tensor,tensor)"
      ],
      "metadata": {
        "colab": {
          "base_uri": "https://localhost:8080/"
        },
        "id": "0co8W0vMEBSH",
        "outputId": "d641cdac-b585-425e-ff0c-1be336bc4038"
      },
      "execution_count": null,
      "outputs": [
        {
          "output_type": "execute_result",
          "data": {
            "text/plain": [
              "tensor(14)"
            ]
          },
          "metadata": {},
          "execution_count": 158
        }
      ]
    },
    {
      "cell_type": "code",
      "source": [
        "tensor@tensor #we are not using it!"
      ],
      "metadata": {
        "colab": {
          "base_uri": "https://localhost:8080/"
        },
        "id": "6LRXQLWwG7ls",
        "outputId": "c5786167-05c6-4f62-95da-0e8db1b4df01"
      },
      "execution_count": null,
      "outputs": [
        {
          "output_type": "execute_result",
          "data": {
            "text/plain": [
              "tensor(14)"
            ]
          },
          "metadata": {},
          "execution_count": 159
        }
      ]
    },
    {
      "cell_type": "code",
      "source": [
        "%%time\n",
        "value=0\n",
        "for i in range (len(tensor)):\n",
        "   value+= tensor[i]*tensor[i]\n",
        "print(value)  # to see who is fast"
      ],
      "metadata": {
        "colab": {
          "base_uri": "https://localhost:8080/"
        },
        "id": "lkq9N1IaESO4",
        "outputId": "7449aaf0-c33e-44da-ec0b-6721aa046d24"
      },
      "execution_count": null,
      "outputs": [
        {
          "output_type": "stream",
          "name": "stdout",
          "text": [
            "tensor(14)\n",
            "CPU times: user 1.74 ms, sys: 0 ns, total: 1.74 ms\n",
            "Wall time: 2.14 ms\n"
          ]
        }
      ]
    },
    {
      "cell_type": "code",
      "source": [
        "%%time\n",
        "torch.matmul(tensor,tensor)"
      ],
      "metadata": {
        "colab": {
          "base_uri": "https://localhost:8080/"
        },
        "id": "KcKy-JiPFhB-",
        "outputId": "5f087dd6-ffc7-47b9-842b-ac3d12e9722c"
      },
      "execution_count": null,
      "outputs": [
        {
          "output_type": "stream",
          "name": "stdout",
          "text": [
            "CPU times: user 78 µs, sys: 0 ns, total: 78 µs\n",
            "Wall time: 82.7 µs\n"
          ]
        },
        {
          "output_type": "execute_result",
          "data": {
            "text/plain": [
              "tensor(14)"
            ]
          },
          "metadata": {},
          "execution_count": 161
        }
      ]
    },
    {
      "cell_type": "markdown",
      "source": [
        "**one of the most common error in deep learning that is shape error**\n",
        "two rules must match\n",
        "\n",
        "\n",
        "1.   The **inner dimensions** must match:\n",
        "    \n",
        "     \n",
        "\n",
        "\n",
        "*   (3,2) @ (3,2) wont work\n",
        "*   (2,3) @ (3,2) will work\n",
        "\n",
        "\n",
        "\n",
        "\n",
        "2.   the resulting matrix has the shape of **the outer dimensions**\n",
        "    **bold text**\n",
        "\n",
        "\n",
        "\n"
      ],
      "metadata": {
        "id": "wDLYvs9iGhzK"
      }
    },
    {
      "cell_type": "markdown",
      "source": [
        "#Transpose Matrix\n",
        "\n",
        "To ignore shape issues we can manipulate the shape of our tesnor using a **transpose**\n",
        "(3,2) @ (3,2) wont work so we need to transpose the matrix"
      ],
      "metadata": {
        "id": "pqe_GqfrIUnh"
      }
    },
    {
      "cell_type": "code",
      "source": [
        "A=torch.rand(3,2)\n",
        "B=torch.rand(3,2)"
      ],
      "metadata": {
        "id": "nBUmjKVmIoLb"
      },
      "execution_count": null,
      "outputs": []
    },
    {
      "cell_type": "code",
      "source": [
        "torch.matmul(A,B.T)"
      ],
      "metadata": {
        "colab": {
          "base_uri": "https://localhost:8080/"
        },
        "id": "F9QOgbEnIoEn",
        "outputId": "ea125cf9-bd58-44ab-d442-2705bc9d9e8d"
      },
      "execution_count": null,
      "outputs": [
        {
          "output_type": "execute_result",
          "data": {
            "text/plain": [
              "tensor([[0.6212, 0.7137, 1.3426],\n",
              "        [0.5107, 0.5932, 1.1438],\n",
              "        [0.4151, 0.5259, 1.2023]])"
            ]
          },
          "metadata": {},
          "execution_count": 163
        }
      ]
    },
    {
      "cell_type": "code",
      "source": [
        "B"
      ],
      "metadata": {
        "colab": {
          "base_uri": "https://localhost:8080/"
        },
        "id": "seM4HgVjI51q",
        "outputId": "3e6b09c3-e44b-4220-fb50-0c8e0cf0cf74"
      },
      "execution_count": null,
      "outputs": [
        {
          "output_type": "execute_result",
          "data": {
            "text/plain": [
              "tensor([[0.5552, 0.2572],\n",
              "        [0.5762, 0.3635],\n",
              "        [0.8153, 0.9795]])"
            ]
          },
          "metadata": {},
          "execution_count": 164
        }
      ]
    },
    {
      "cell_type": "code",
      "source": [
        "B.T"
      ],
      "metadata": {
        "colab": {
          "base_uri": "https://localhost:8080/"
        },
        "id": "j-YicBLKJE_J",
        "outputId": "2970cefe-4cd0-466f-f5c8-95f87b5b05dd"
      },
      "execution_count": null,
      "outputs": [
        {
          "output_type": "execute_result",
          "data": {
            "text/plain": [
              "tensor([[0.5552, 0.5762, 0.8153],\n",
              "        [0.2572, 0.3635, 0.9795]])"
            ]
          },
          "metadata": {},
          "execution_count": 165
        }
      ]
    },
    {
      "cell_type": "markdown",
      "source": [
        "#Tensor Aggregation\n",
        "\n",
        "finding the min, mean, max, sum etc from tensors.\n",
        "\n",
        "\n",
        "\n",
        "1.   variable.max() or torch.max(variable).......>>>>max pabo\n",
        "2.   variable.min() or torch.min(variable).......>>>>min pabo similar shob\n",
        "\n"
      ],
      "metadata": {
        "id": "LelnaU-c1iMS"
      }
    },
    {
      "cell_type": "code",
      "source": [
        "x=torch.randn(5,50,3)"
      ],
      "metadata": {
        "id": "_3bCUqevJT6Z"
      },
      "execution_count": null,
      "outputs": []
    },
    {
      "cell_type": "code",
      "source": [
        "x.dtype\n"
      ],
      "metadata": {
        "colab": {
          "base_uri": "https://localhost:8080/"
        },
        "id": "Hh45ZnqM2Y2Z",
        "outputId": "40bd4939-7ad3-4b59-8594-fffeb9124bfa"
      },
      "execution_count": null,
      "outputs": [
        {
          "output_type": "execute_result",
          "data": {
            "text/plain": [
              "torch.float32"
            ]
          },
          "metadata": {},
          "execution_count": 167
        }
      ]
    },
    {
      "cell_type": "code",
      "source": [
        "torch.mean(x)"
      ],
      "metadata": {
        "colab": {
          "base_uri": "https://localhost:8080/"
        },
        "id": "henMo0ak2un9",
        "outputId": "0edacc99-9822-49b9-fe52-e3350529dab7"
      },
      "execution_count": null,
      "outputs": [
        {
          "output_type": "execute_result",
          "data": {
            "text/plain": [
              "tensor(0.0029)"
            ]
          },
          "metadata": {},
          "execution_count": 168
        }
      ]
    },
    {
      "cell_type": "code",
      "source": [
        "torch.mean(x.type(torch.float32)) #the torch.mean() function requiers a tensor of float32 datatype to work"
      ],
      "metadata": {
        "colab": {
          "base_uri": "https://localhost:8080/"
        },
        "id": "i4CnLVxQ2175",
        "outputId": "f3aacbff-fb32-4fc9-adfa-ecb2a87d9b89"
      },
      "execution_count": null,
      "outputs": [
        {
          "output_type": "execute_result",
          "data": {
            "text/plain": [
              "tensor(0.0029)"
            ]
          },
          "metadata": {},
          "execution_count": 169
        }
      ]
    },
    {
      "cell_type": "code",
      "source": [
        "x.type(torch.float32).mean()"
      ],
      "metadata": {
        "colab": {
          "base_uri": "https://localhost:8080/"
        },
        "id": "SGWaTdZO3djA",
        "outputId": "8bf32216-a324-4c5d-ceab-c5a61168e8d2"
      },
      "execution_count": null,
      "outputs": [
        {
          "output_type": "execute_result",
          "data": {
            "text/plain": [
              "tensor(0.0029)"
            ]
          },
          "metadata": {},
          "execution_count": 170
        }
      ]
    },
    {
      "cell_type": "markdown",
      "source": [
        "**Finding the position of the min and max**"
      ],
      "metadata": {
        "id": "uanyx5tV4Qzz"
      }
    },
    {
      "cell_type": "code",
      "source": [
        "x"
      ],
      "metadata": {
        "colab": {
          "base_uri": "https://localhost:8080/"
        },
        "id": "WTgjsvK83pRn",
        "outputId": "3b3529ec-46b7-48d6-ef0a-24e0beb8a6c0"
      },
      "execution_count": null,
      "outputs": [
        {
          "output_type": "execute_result",
          "data": {
            "text/plain": [
              "tensor([[[-1.0709e+00,  1.1601e+00, -2.7641e-01],\n",
              "         [ 2.3819e-01, -1.4876e+00, -2.8143e+00],\n",
              "         [-2.6556e-01,  1.3202e+00, -7.2998e-01],\n",
              "         [ 7.6230e-01,  5.5247e-02,  7.9078e-01],\n",
              "         [ 1.1954e+00,  5.6018e-01, -2.4823e-01],\n",
              "         [-5.9831e-01, -1.1727e+00, -3.5475e-01],\n",
              "         [ 9.5029e-01, -1.8517e-01,  4.4968e-01],\n",
              "         [ 9.9420e-01,  5.7450e-03, -1.4382e+00],\n",
              "         [ 1.0013e-01, -2.6673e-01, -1.1075e+00],\n",
              "         [-1.5833e+00,  1.2938e+00,  1.0312e+00],\n",
              "         [-9.9127e-01, -7.3284e-01,  6.4169e-01],\n",
              "         [ 1.2403e+00,  1.3699e+00, -1.7836e+00],\n",
              "         [ 1.1333e+00,  1.3744e+00,  9.2026e-01],\n",
              "         [-4.6976e-01, -2.5639e-01,  2.8350e-01],\n",
              "         [ 8.6529e-01,  6.3776e-01, -1.4576e+00],\n",
              "         [-1.1870e+00,  3.4955e-01,  8.9165e-01],\n",
              "         [ 4.3787e-02,  9.0937e-02,  1.1095e+00],\n",
              "         [ 8.0539e-02,  3.6853e-01,  1.1834e+00],\n",
              "         [ 1.5352e+00,  1.1370e-01,  1.5752e+00],\n",
              "         [ 7.9082e-01,  2.3558e-01, -7.5229e-01],\n",
              "         [-3.7217e-01,  1.1764e+00, -1.3396e-01],\n",
              "         [ 7.1060e-01, -2.4236e+00,  2.0676e-03],\n",
              "         [ 2.2610e+00,  6.5337e-01, -2.4050e-01],\n",
              "         [ 2.0865e+00, -4.0334e-01,  1.5779e+00],\n",
              "         [-6.7212e-01, -6.4160e-01,  1.5444e-01],\n",
              "         [ 7.5041e-01,  1.2771e+00, -3.6417e-01],\n",
              "         [ 5.1816e-01,  3.3652e-01, -2.8466e-01],\n",
              "         [-1.3771e+00, -5.0837e-01, -4.6515e-01],\n",
              "         [-1.6382e+00,  3.5852e-01,  1.3049e-01],\n",
              "         [-4.0927e-01, -8.8149e-01,  1.0645e+00],\n",
              "         [-1.1294e+00, -3.9441e-01,  5.7563e-01],\n",
              "         [ 9.4195e-01, -1.7646e-01,  4.4224e-01],\n",
              "         [ 1.0425e+00,  1.2859e-01,  7.5431e-01],\n",
              "         [ 2.1465e+00,  1.3309e+00,  1.1951e+00],\n",
              "         [-1.7537e-01, -1.1436e+00,  1.2708e+00],\n",
              "         [-2.3813e+00, -6.1317e-01,  4.6839e-01],\n",
              "         [ 6.3643e-01, -7.4854e-02, -6.0627e-01],\n",
              "         [ 9.4541e-02,  4.3291e-02,  5.0219e-01],\n",
              "         [ 3.7792e-02, -4.8997e-01, -6.2886e-01],\n",
              "         [ 5.9838e-01,  1.0258e+00, -1.6882e+00],\n",
              "         [-6.1446e-01,  5.4368e-01,  5.1741e-01],\n",
              "         [ 5.1902e-01,  1.2984e+00, -6.2187e-01],\n",
              "         [ 7.2407e-01, -9.3526e-01,  2.7462e-01],\n",
              "         [-1.2988e+00, -3.2082e-01,  5.2994e-01],\n",
              "         [ 1.9685e+00,  1.0823e+00,  5.1670e-01],\n",
              "         [-6.3033e-01, -1.3729e+00, -5.7844e-01],\n",
              "         [ 6.3614e-01, -5.9932e-01,  2.1497e-01],\n",
              "         [-2.1086e-01,  1.2300e-01, -2.0007e+00],\n",
              "         [ 6.3565e-01, -7.5345e-01,  1.3463e+00],\n",
              "         [-1.4015e-01, -1.2564e+00, -1.4282e-01]],\n",
              "\n",
              "        [[ 2.1639e+00,  2.8671e+00, -6.5609e-01],\n",
              "         [-1.6115e+00,  1.2571e+00,  5.2184e-01],\n",
              "         [-1.7763e+00,  1.6542e+00,  4.1775e-02],\n",
              "         [-4.8562e-01,  2.6095e-03,  7.1989e-01],\n",
              "         [-6.2807e-01, -9.4129e-01,  4.0442e-01],\n",
              "         [-2.3106e-01, -8.7321e-02,  9.1370e-02],\n",
              "         [-2.6470e-01, -1.2845e+00,  5.7090e-01],\n",
              "         [ 5.0914e-01,  1.3950e-02,  6.2693e-01],\n",
              "         [ 1.5946e-01,  2.9113e-01,  1.9472e-01],\n",
              "         [-4.9831e-01, -1.1447e+00,  1.7557e-01],\n",
              "         [-6.0071e-02, -4.8345e-01,  1.3184e-01],\n",
              "         [ 7.6557e-01,  5.6700e-01, -3.6512e-02],\n",
              "         [ 1.4442e+00, -3.0904e-01,  8.2882e-01],\n",
              "         [-1.4711e+00, -2.5089e+00, -1.1574e+00],\n",
              "         [-6.4957e-01, -1.2656e+00,  1.0740e+00],\n",
              "         [ 4.4015e-01,  8.3596e-01, -3.6539e-01],\n",
              "         [-1.1501e+00,  8.1929e-01, -3.9608e-01],\n",
              "         [ 2.4807e-01, -5.1033e-01,  1.6839e+00],\n",
              "         [-1.5539e+00,  6.2327e-01,  3.4033e-01],\n",
              "         [-2.5448e+00, -2.3993e-01,  8.3668e-01],\n",
              "         [-5.7024e-02,  1.0175e+00, -2.3365e-01],\n",
              "         [ 3.9462e-01,  7.1212e-01,  9.0837e-01],\n",
              "         [ 4.2591e-01, -4.6603e-02,  1.5902e-01],\n",
              "         [ 5.1496e-01,  5.0351e-02, -5.1229e-01],\n",
              "         [-1.1977e+00, -9.2203e-01, -2.5859e-01],\n",
              "         [-1.3843e+00,  4.3791e-01, -2.1594e+00],\n",
              "         [-3.5154e-01,  4.9670e-01,  6.9041e-01],\n",
              "         [ 5.1666e-02, -4.4339e-01,  6.7264e-02],\n",
              "         [-1.0216e+00,  6.2824e-01,  1.4618e+00],\n",
              "         [ 1.0682e+00, -2.1369e-01,  6.0587e-01],\n",
              "         [-1.0635e+00, -3.9276e-01,  5.1787e-01],\n",
              "         [-1.2166e+00,  2.5803e+00,  1.2176e+00],\n",
              "         [-1.1521e+00,  3.6146e-01,  2.9333e-01],\n",
              "         [ 2.1442e+00,  3.3813e-02,  3.0539e-01],\n",
              "         [ 7.7182e-01,  9.5229e-01,  2.0713e-01],\n",
              "         [-1.8619e-01, -1.0755e-01, -6.3453e-01],\n",
              "         [ 1.3895e+00, -6.2085e-01,  1.0441e+00],\n",
              "         [ 6.0237e-02, -1.5323e+00,  5.0218e-01],\n",
              "         [-2.3004e-02,  2.0129e+00,  2.0985e+00],\n",
              "         [-1.2946e+00,  5.9345e-01, -8.7343e-01],\n",
              "         [-7.9519e-01, -1.9081e-01,  7.8713e-01],\n",
              "         [-1.8257e-01, -9.3161e-01,  7.2791e-02],\n",
              "         [ 1.1466e+00, -4.3212e-01, -2.5151e-01],\n",
              "         [ 2.4830e-01,  1.6753e-01,  5.0192e-01],\n",
              "         [-1.7192e+00, -1.5051e+00, -2.2831e-01],\n",
              "         [ 1.3608e+00, -3.7305e-01,  3.7770e-01],\n",
              "         [ 6.7806e-01,  2.0730e+00,  9.5024e-01],\n",
              "         [-7.3442e-01, -2.3121e-01,  1.5226e+00],\n",
              "         [-1.1544e+00,  7.6140e-01, -2.2666e-02],\n",
              "         [ 6.8672e-01, -7.7384e-02,  1.3150e+00]],\n",
              "\n",
              "        [[ 3.6814e-01, -3.1768e-01, -3.0138e-01],\n",
              "         [-3.7298e-01, -2.1813e-01,  1.8492e+00],\n",
              "         [-1.5372e+00, -1.1245e+00, -1.3632e+00],\n",
              "         [ 1.0897e+00,  2.2148e-01,  8.3435e-01],\n",
              "         [-8.4131e-02, -5.4561e-01, -2.8914e-01],\n",
              "         [ 2.4662e-01, -1.3454e+00, -1.6996e+00],\n",
              "         [-1.7182e+00,  2.8798e-01,  9.9524e-01],\n",
              "         [-1.4510e+00, -1.7794e+00, -6.3153e-03],\n",
              "         [ 7.0630e-01, -2.7307e-01,  8.7876e-01],\n",
              "         [-8.9072e-01, -8.8046e-01, -3.4953e-01],\n",
              "         [ 1.1702e-01,  1.3091e-02, -5.7301e-01],\n",
              "         [-8.5964e-01,  2.8077e-01,  4.2005e-01],\n",
              "         [-1.5979e+00, -6.5298e-01,  2.8030e-01],\n",
              "         [ 1.7913e+00, -2.4455e-01, -5.5325e-02],\n",
              "         [ 6.6811e-01,  1.1841e+00,  3.8772e-01],\n",
              "         [-1.8131e+00,  8.0903e-01,  1.0310e+00],\n",
              "         [ 1.7445e+00,  1.7230e+00, -5.2924e-01],\n",
              "         [ 5.4960e-01, -2.9745e-01, -8.1196e-01],\n",
              "         [-1.0540e+00, -6.0423e-01, -1.7481e+00],\n",
              "         [-2.6877e-01,  8.2581e-01,  4.4298e-01],\n",
              "         [ 3.9368e-01,  5.2403e-01, -6.1382e-02],\n",
              "         [-2.6382e+00, -4.3025e-02, -7.2400e-01],\n",
              "         [-1.0938e-01,  5.4662e-01, -6.7491e-01],\n",
              "         [-1.2142e+00, -8.2320e-01,  2.5330e-01],\n",
              "         [-5.5817e-02,  1.0108e+00, -4.3671e-01],\n",
              "         [-9.4155e-02, -1.7434e-01, -1.0498e+00],\n",
              "         [ 8.6234e-01, -5.2499e-01,  9.3222e-01],\n",
              "         [-1.6390e+00, -7.0608e-01,  1.6238e-01],\n",
              "         [-9.1700e-01, -3.5552e-01,  1.3812e+00],\n",
              "         [ 1.7618e+00,  1.1163e-01,  8.0899e-01],\n",
              "         [ 1.1396e+00,  6.5198e-01,  2.8400e-01],\n",
              "         [ 5.0954e-01, -6.8965e-01, -8.6403e-01],\n",
              "         [ 3.1075e-01,  6.8291e-01, -1.2343e+00],\n",
              "         [-8.6752e-01, -9.0082e-02, -1.3964e+00],\n",
              "         [ 9.2185e-01,  6.7415e-01, -5.0761e-01],\n",
              "         [ 2.7687e-01,  3.8108e-02,  3.3121e-01],\n",
              "         [ 2.3516e+00,  2.2319e-01, -1.3982e+00],\n",
              "         [ 1.2466e+00,  1.8908e-01, -7.2867e-02],\n",
              "         [ 2.0874e-01,  1.4636e+00,  5.4161e-03],\n",
              "         [ 4.5767e-01, -5.3947e-01,  1.0236e+00],\n",
              "         [-2.6819e-01,  9.5655e-01, -1.8428e+00],\n",
              "         [ 5.0258e-01,  1.0364e+00, -1.4441e+00],\n",
              "         [-4.3533e-01,  7.8005e-01,  8.6150e-01],\n",
              "         [-5.1691e-01,  8.1952e-01, -1.1462e+00],\n",
              "         [ 6.7071e-01, -3.5180e-02, -9.2129e-01],\n",
              "         [-2.0258e+00, -1.5216e+00,  1.5487e-01],\n",
              "         [ 5.3403e-01, -1.5279e+00, -2.8252e+00],\n",
              "         [-1.0853e+00, -7.8559e-01,  2.6136e+00],\n",
              "         [ 8.9145e-01,  5.6836e-01, -1.2501e+00],\n",
              "         [-8.0834e-01, -6.0674e-01,  2.4429e-01]],\n",
              "\n",
              "        [[ 9.6540e-01,  7.1308e-01,  1.4718e+00],\n",
              "         [ 2.0771e+00, -4.2878e-01,  1.3527e+00],\n",
              "         [-1.4701e+00, -1.4928e+00,  1.9082e-01],\n",
              "         [-1.3337e+00,  1.7199e+00, -3.6060e-01],\n",
              "         [-2.8436e-01,  7.6388e-01,  2.1345e-01],\n",
              "         [ 7.2750e-01,  5.1888e-01,  9.0748e-02],\n",
              "         [ 1.8234e+00, -1.2006e+00,  1.1131e-01],\n",
              "         [-3.2913e-01, -2.1848e+00,  2.3663e-01],\n",
              "         [-3.9606e-01, -1.6424e+00,  1.5245e+00],\n",
              "         [-7.4494e-01, -7.8397e-02, -1.0946e+00],\n",
              "         [-9.0462e-01, -1.7201e+00,  4.9657e-01],\n",
              "         [-1.8928e+00, -2.7290e+00,  1.3472e+00],\n",
              "         [ 1.0772e+00, -1.5245e+00,  1.2226e+00],\n",
              "         [ 1.6080e-02,  8.1122e-01,  9.5523e-01],\n",
              "         [ 1.5913e+00, -3.3810e-01, -2.0272e+00],\n",
              "         [-1.3157e-01, -1.1257e+00, -4.6475e-01],\n",
              "         [-1.2342e+00, -1.5613e+00,  1.6852e+00],\n",
              "         [-1.7259e-01,  2.0002e-01,  1.3384e+00],\n",
              "         [-1.4985e-01, -2.5395e-01,  1.0335e-01],\n",
              "         [-2.9681e-01, -1.4798e+00,  1.1693e+00],\n",
              "         [-1.2633e+00, -9.1482e-01, -4.9597e-02],\n",
              "         [ 7.4615e-01,  1.6376e+00, -5.3206e-01],\n",
              "         [ 1.1443e-01, -5.4992e-01, -7.5686e-01],\n",
              "         [-1.4868e+00, -1.2851e+00, -1.8179e+00],\n",
              "         [-5.3417e-01, -3.8131e-01,  1.9474e-01],\n",
              "         [ 5.1610e-01,  6.6201e-01,  1.0892e+00],\n",
              "         [-4.0544e-01, -9.0050e-01, -1.1619e-01],\n",
              "         [-7.6937e-01,  5.6382e-01, -4.0848e-01],\n",
              "         [-6.0457e-01, -1.2443e+00,  1.3853e+00],\n",
              "         [-8.4027e-01,  6.8386e-01, -1.3126e-02],\n",
              "         [ 5.9802e-01, -1.7861e-01,  1.5534e-01],\n",
              "         [ 4.4715e-01,  8.1485e-01,  1.6502e+00],\n",
              "         [ 1.2471e+00,  6.7018e-01, -7.1294e-01],\n",
              "         [-1.3205e+00, -9.2573e-01, -3.4483e-02],\n",
              "         [ 3.9397e-01, -6.1534e-01, -6.3156e-01],\n",
              "         [-2.0914e-01, -2.7024e-01, -1.1962e+00],\n",
              "         [-4.1172e-01,  1.0060e+00, -8.7769e-02],\n",
              "         [-6.5902e-01, -1.0622e-01, -6.9329e-01],\n",
              "         [-1.1700e+00,  4.0889e-01, -8.0418e-02],\n",
              "         [-4.9084e-01, -2.1000e+00,  9.1334e-02],\n",
              "         [ 1.7916e+00,  6.5526e-01,  5.0452e-01],\n",
              "         [-3.5897e-01,  1.1201e+00,  1.3711e+00],\n",
              "         [-1.5690e+00, -6.6809e-01,  6.3307e-01],\n",
              "         [ 7.9745e-03, -1.1590e-01,  1.5341e+00],\n",
              "         [-1.4944e+00,  7.7291e-01,  1.4207e+00],\n",
              "         [-2.0562e-01,  4.7847e-01, -2.0166e+00],\n",
              "         [-2.8596e-01,  2.3072e-01,  6.6343e-01],\n",
              "         [-6.1565e-01, -1.3443e+00, -8.9532e-01],\n",
              "         [ 2.8368e-01,  1.0375e+00,  5.0821e-01],\n",
              "         [ 7.9072e-01, -2.6717e-01, -6.4574e-01]],\n",
              "\n",
              "        [[ 4.0086e-01,  1.8374e+00, -1.6572e-01],\n",
              "         [-5.9844e-01, -8.8465e-01,  1.2235e+00],\n",
              "         [-2.8647e-01, -4.5801e-01,  3.9325e-01],\n",
              "         [-7.5181e-01, -4.6621e-01, -3.3747e-01],\n",
              "         [ 4.5751e-01,  1.6224e+00,  1.4253e+00],\n",
              "         [ 4.3534e-01,  7.1606e-01, -1.8897e+00],\n",
              "         [ 1.6112e+00, -3.0955e-01,  1.2164e+00],\n",
              "         [ 1.4001e+00, -8.0111e-02,  2.6626e-01],\n",
              "         [ 1.9625e-01, -1.1657e+00,  8.6972e-01],\n",
              "         [-3.5461e-02,  1.2489e+00, -9.2007e-01],\n",
              "         [-1.7414e+00, -4.0094e-01,  7.4050e-01],\n",
              "         [-1.0605e+00,  3.2237e-01, -1.3526e+00],\n",
              "         [-1.1942e+00,  1.2545e+00, -1.3129e-01],\n",
              "         [-1.6341e+00,  1.5859e-01,  1.7972e+00],\n",
              "         [-2.5729e-01,  1.2678e-01, -8.2503e-01],\n",
              "         [ 1.8366e-01,  1.8906e-01,  1.0383e+00],\n",
              "         [ 2.4372e+00,  1.3059e+00,  5.0057e-01],\n",
              "         [ 6.1797e-01,  7.8440e-01,  1.1436e+00],\n",
              "         [-4.6911e-01,  9.0840e-01,  7.7100e-01],\n",
              "         [-9.5452e-01,  2.9230e-01, -5.0944e-01],\n",
              "         [ 6.5046e-02,  3.6626e-01, -9.3728e-01],\n",
              "         [-4.6824e-02, -3.8073e-01,  5.4431e-02],\n",
              "         [-6.6470e-01, -1.4453e+00,  2.9481e-01],\n",
              "         [-4.5769e-01, -1.3079e+00, -1.4433e+00],\n",
              "         [-3.6690e-01,  7.2650e-01, -1.1128e-01],\n",
              "         [-6.2821e-01, -8.7150e-01, -2.0625e+00],\n",
              "         [ 1.2699e+00,  8.2345e-01,  1.8488e-01],\n",
              "         [-2.0861e+00, -1.5403e+00,  4.6455e-01],\n",
              "         [ 2.5990e-01, -9.1045e-01,  6.3080e-01],\n",
              "         [ 7.6698e-01,  5.4094e-01,  1.5468e+00],\n",
              "         [-2.0888e-01, -1.5834e-01, -6.8902e-01],\n",
              "         [-1.2950e-02,  1.7057e+00, -5.9535e-01],\n",
              "         [-8.4945e-01, -1.5890e+00,  5.3382e-01],\n",
              "         [ 7.2096e-01,  1.2388e+00,  1.2865e+00],\n",
              "         [ 3.7563e-01,  1.1511e+00,  3.8902e-01],\n",
              "         [-5.2712e-01,  2.2645e-02, -9.8609e-01],\n",
              "         [-4.3242e-01,  2.7775e-01,  7.6455e-01],\n",
              "         [ 2.0926e+00,  2.2731e-01, -1.2634e+00],\n",
              "         [-1.4832e+00,  1.9516e+00,  7.9160e-01],\n",
              "         [-3.0162e-01, -8.6261e-01, -5.3561e-01],\n",
              "         [-1.9908e+00, -1.5121e+00, -1.3691e-01],\n",
              "         [ 1.0233e-01, -2.2497e+00,  1.4283e+00],\n",
              "         [ 4.3701e-01, -1.3262e+00,  4.4131e-01],\n",
              "         [ 1.5631e+00,  6.1525e-01,  6.7550e-01],\n",
              "         [ 7.3569e-01,  1.5134e+00,  3.5953e-01],\n",
              "         [-3.8368e-01,  6.1257e-01, -5.6640e-02],\n",
              "         [-1.1895e+00,  1.6964e-01,  1.9323e-01],\n",
              "         [-8.6075e-01, -1.0517e+00,  1.4673e+00],\n",
              "         [-3.7776e-01, -2.3561e-01, -6.2053e-01],\n",
              "         [ 2.3782e-01,  4.6787e-01,  5.1959e-01]]])"
            ]
          },
          "metadata": {},
          "execution_count": 171
        }
      ]
    },
    {
      "cell_type": "code",
      "source": [
        "x.argmin() # find the position in tensor that has the minimum value with \"argmin()\" function..> return index position"
      ],
      "metadata": {
        "colab": {
          "base_uri": "https://localhost:8080/"
        },
        "id": "wtaFk80-4in4",
        "outputId": "81fff466-e47a-44bd-9406-843d6cf31c49"
      },
      "execution_count": null,
      "outputs": [
        {
          "output_type": "execute_result",
          "data": {
            "text/plain": [
              "tensor(440)"
            ]
          },
          "metadata": {},
          "execution_count": 172
        }
      ]
    },
    {
      "cell_type": "code",
      "source": [
        "x[0]"
      ],
      "metadata": {
        "colab": {
          "base_uri": "https://localhost:8080/"
        },
        "id": "DczDCAaW4ohL",
        "outputId": "2814b78d-53e0-40e7-a47b-c855a9ad2a68"
      },
      "execution_count": null,
      "outputs": [
        {
          "output_type": "execute_result",
          "data": {
            "text/plain": [
              "tensor([[-1.0709e+00,  1.1601e+00, -2.7641e-01],\n",
              "        [ 2.3819e-01, -1.4876e+00, -2.8143e+00],\n",
              "        [-2.6556e-01,  1.3202e+00, -7.2998e-01],\n",
              "        [ 7.6230e-01,  5.5247e-02,  7.9078e-01],\n",
              "        [ 1.1954e+00,  5.6018e-01, -2.4823e-01],\n",
              "        [-5.9831e-01, -1.1727e+00, -3.5475e-01],\n",
              "        [ 9.5029e-01, -1.8517e-01,  4.4968e-01],\n",
              "        [ 9.9420e-01,  5.7450e-03, -1.4382e+00],\n",
              "        [ 1.0013e-01, -2.6673e-01, -1.1075e+00],\n",
              "        [-1.5833e+00,  1.2938e+00,  1.0312e+00],\n",
              "        [-9.9127e-01, -7.3284e-01,  6.4169e-01],\n",
              "        [ 1.2403e+00,  1.3699e+00, -1.7836e+00],\n",
              "        [ 1.1333e+00,  1.3744e+00,  9.2026e-01],\n",
              "        [-4.6976e-01, -2.5639e-01,  2.8350e-01],\n",
              "        [ 8.6529e-01,  6.3776e-01, -1.4576e+00],\n",
              "        [-1.1870e+00,  3.4955e-01,  8.9165e-01],\n",
              "        [ 4.3787e-02,  9.0937e-02,  1.1095e+00],\n",
              "        [ 8.0539e-02,  3.6853e-01,  1.1834e+00],\n",
              "        [ 1.5352e+00,  1.1370e-01,  1.5752e+00],\n",
              "        [ 7.9082e-01,  2.3558e-01, -7.5229e-01],\n",
              "        [-3.7217e-01,  1.1764e+00, -1.3396e-01],\n",
              "        [ 7.1060e-01, -2.4236e+00,  2.0676e-03],\n",
              "        [ 2.2610e+00,  6.5337e-01, -2.4050e-01],\n",
              "        [ 2.0865e+00, -4.0334e-01,  1.5779e+00],\n",
              "        [-6.7212e-01, -6.4160e-01,  1.5444e-01],\n",
              "        [ 7.5041e-01,  1.2771e+00, -3.6417e-01],\n",
              "        [ 5.1816e-01,  3.3652e-01, -2.8466e-01],\n",
              "        [-1.3771e+00, -5.0837e-01, -4.6515e-01],\n",
              "        [-1.6382e+00,  3.5852e-01,  1.3049e-01],\n",
              "        [-4.0927e-01, -8.8149e-01,  1.0645e+00],\n",
              "        [-1.1294e+00, -3.9441e-01,  5.7563e-01],\n",
              "        [ 9.4195e-01, -1.7646e-01,  4.4224e-01],\n",
              "        [ 1.0425e+00,  1.2859e-01,  7.5431e-01],\n",
              "        [ 2.1465e+00,  1.3309e+00,  1.1951e+00],\n",
              "        [-1.7537e-01, -1.1436e+00,  1.2708e+00],\n",
              "        [-2.3813e+00, -6.1317e-01,  4.6839e-01],\n",
              "        [ 6.3643e-01, -7.4854e-02, -6.0627e-01],\n",
              "        [ 9.4541e-02,  4.3291e-02,  5.0219e-01],\n",
              "        [ 3.7792e-02, -4.8997e-01, -6.2886e-01],\n",
              "        [ 5.9838e-01,  1.0258e+00, -1.6882e+00],\n",
              "        [-6.1446e-01,  5.4368e-01,  5.1741e-01],\n",
              "        [ 5.1902e-01,  1.2984e+00, -6.2187e-01],\n",
              "        [ 7.2407e-01, -9.3526e-01,  2.7462e-01],\n",
              "        [-1.2988e+00, -3.2082e-01,  5.2994e-01],\n",
              "        [ 1.9685e+00,  1.0823e+00,  5.1670e-01],\n",
              "        [-6.3033e-01, -1.3729e+00, -5.7844e-01],\n",
              "        [ 6.3614e-01, -5.9932e-01,  2.1497e-01],\n",
              "        [-2.1086e-01,  1.2300e-01, -2.0007e+00],\n",
              "        [ 6.3565e-01, -7.5345e-01,  1.3463e+00],\n",
              "        [-1.4015e-01, -1.2564e+00, -1.4282e-01]])"
            ]
          },
          "metadata": {},
          "execution_count": 173
        }
      ]
    },
    {
      "cell_type": "code",
      "source": [
        "x.argmax()"
      ],
      "metadata": {
        "colab": {
          "base_uri": "https://localhost:8080/"
        },
        "id": "RnfWOKa25GAQ",
        "outputId": "48e7d228-8cc2-42ce-e393-68aa7a59b1fb"
      },
      "execution_count": null,
      "outputs": [
        {
          "output_type": "execute_result",
          "data": {
            "text/plain": [
              "tensor(151)"
            ]
          },
          "metadata": {},
          "execution_count": 174
        }
      ]
    },
    {
      "cell_type": "markdown",
      "source": [
        "#Reshaping, Viewing and stacking\n",
        "\n",
        "*Reshaping- reshapes an input tensor to a defined shape\n",
        "\n",
        "---\n",
        "\n",
        "\n",
        "*View- Return a view of an input tensor of a certain shape but keep the same memory as the original tensor\n",
        "\n",
        "---\n",
        "\n",
        "\n",
        "*stacking-- combine mulitiple tensors on top of each other (vstack)-vertical stack or side by side (hstack) horizontal stack\n",
        "\n",
        "\n",
        "---\n",
        "\n",
        "\n",
        "*squeeze- removes all 1 Dimenstion from a tensor\n",
        "\n",
        "---\n",
        "\n",
        "\n",
        "*unsqueeze- add a 1 dimension to a target tensor\n",
        "\n",
        "---\n",
        "\n",
        "\n",
        "*Permute- return a view of the input with dimensions permuted(swapped) in a certain way\n"
      ],
      "metadata": {
        "id": "AkdhD7hW5kdZ"
      }
    },
    {
      "cell_type": "code",
      "source": [
        "import torch\n",
        "x=torch.arange(1.,10.)\n",
        "x, x.shape\n"
      ],
      "metadata": {
        "colab": {
          "base_uri": "https://localhost:8080/"
        },
        "id": "eijB8lRZ5j9V",
        "outputId": "d028cc94-4872-4b50-d28f-7527236bf88c"
      },
      "execution_count": null,
      "outputs": [
        {
          "output_type": "execute_result",
          "data": {
            "text/plain": [
              "(tensor([1., 2., 3., 4., 5., 6., 7., 8., 9.]), torch.Size([9]))"
            ]
          },
          "metadata": {},
          "execution_count": 181
        }
      ]
    },
    {
      "cell_type": "code",
      "source": [
        "x_reshaped=x.reshape(1,7)\n",
        "x_reshaped #size same nei tai hobe na, size chilo 9, amra dilam 1,7 then eta hobe na #this error is for understanding"
      ],
      "metadata": {
        "colab": {
          "base_uri": "https://localhost:8080/",
          "height": 183
        },
        "id": "3Sq8Mm305M4v",
        "outputId": "af8d3930-3905-4209-fe32-567a9c3dfb3c"
      },
      "execution_count": null,
      "outputs": [
        {
          "output_type": "error",
          "ename": "RuntimeError",
          "evalue": "ignored",
          "traceback": [
            "\u001b[0;31m---------------------------------------------------------------------------\u001b[0m",
            "\u001b[0;31mRuntimeError\u001b[0m                              Traceback (most recent call last)",
            "\u001b[0;32m<ipython-input-221-5c263bcd4478>\u001b[0m in \u001b[0;36m<cell line: 1>\u001b[0;34m()\u001b[0m\n\u001b[0;32m----> 1\u001b[0;31m \u001b[0mx_reshaped\u001b[0m\u001b[0;34m=\u001b[0m\u001b[0mx\u001b[0m\u001b[0;34m.\u001b[0m\u001b[0mreshape\u001b[0m\u001b[0;34m(\u001b[0m\u001b[0;36m1\u001b[0m\u001b[0;34m,\u001b[0m\u001b[0;36m7\u001b[0m\u001b[0;34m)\u001b[0m\u001b[0;34m\u001b[0m\u001b[0;34m\u001b[0m\u001b[0m\n\u001b[0m\u001b[1;32m      2\u001b[0m \u001b[0mx_reshaped\u001b[0m \u001b[0;31m#size same nei tai hobe na, size chilo 9, amra dilam 1,7 then eta hobe na #this error is for understanding\u001b[0m\u001b[0;34m\u001b[0m\u001b[0;34m\u001b[0m\u001b[0m\n",
            "\u001b[0;31mRuntimeError\u001b[0m: shape '[1, 7]' is invalid for input of size 9"
          ]
        }
      ]
    },
    {
      "cell_type": "code",
      "source": [
        "x_reshaped=x.reshape(1,9)\n",
        "x_reshaped"
      ],
      "metadata": {
        "id": "FfjKopH971ha",
        "colab": {
          "base_uri": "https://localhost:8080/"
        },
        "outputId": "7d02accb-0356-4d90-cd88-8322a2fe445c"
      },
      "execution_count": null,
      "outputs": [
        {
          "output_type": "execute_result",
          "data": {
            "text/plain": [
              "tensor([[7., 2., 3., 4., 5., 6., 7., 8., 9.]])"
            ]
          },
          "metadata": {},
          "execution_count": 222
        }
      ]
    },
    {
      "cell_type": "code",
      "source": [
        "x_reshaped=x.reshape(2,9) # size 18 hoy\n",
        "x_reshaped #this error is for understanding"
      ],
      "metadata": {
        "colab": {
          "base_uri": "https://localhost:8080/",
          "height": 183
        },
        "id": "64hy2-p5_MeL",
        "outputId": "4f63719d-ad2b-4ed6-b480-5c81d7e65a38"
      },
      "execution_count": null,
      "outputs": [
        {
          "output_type": "error",
          "ename": "RuntimeError",
          "evalue": "ignored",
          "traceback": [
            "\u001b[0;31m---------------------------------------------------------------------------\u001b[0m",
            "\u001b[0;31mRuntimeError\u001b[0m                              Traceback (most recent call last)",
            "\u001b[0;32m<ipython-input-184-8e7f63283f94>\u001b[0m in \u001b[0;36m<cell line: 1>\u001b[0;34m()\u001b[0m\n\u001b[0;32m----> 1\u001b[0;31m \u001b[0mx_reshaped\u001b[0m\u001b[0;34m=\u001b[0m\u001b[0mx\u001b[0m\u001b[0;34m.\u001b[0m\u001b[0mreshape\u001b[0m\u001b[0;34m(\u001b[0m\u001b[0;36m2\u001b[0m\u001b[0;34m,\u001b[0m\u001b[0;36m9\u001b[0m\u001b[0;34m)\u001b[0m \u001b[0;31m# size 18 hoy\u001b[0m\u001b[0;34m\u001b[0m\u001b[0;34m\u001b[0m\u001b[0m\n\u001b[0m\u001b[1;32m      2\u001b[0m \u001b[0mx_reshaped\u001b[0m\u001b[0;34m\u001b[0m\u001b[0;34m\u001b[0m\u001b[0m\n",
            "\u001b[0;31mRuntimeError\u001b[0m: shape '[2, 9]' is invalid for input of size 9"
          ]
        }
      ]
    },
    {
      "cell_type": "code",
      "source": [
        "x_reshaped=x.reshape(9,1)\n",
        "x_reshaped, x_reshaped.shape"
      ],
      "metadata": {
        "id": "aGDqvel1_TkJ",
        "colab": {
          "base_uri": "https://localhost:8080/"
        },
        "outputId": "6af5dc97-f931-4eda-c710-389f5bc8b84e"
      },
      "execution_count": null,
      "outputs": [
        {
          "output_type": "execute_result",
          "data": {
            "text/plain": [
              "(tensor([[1.],\n",
              "         [2.],\n",
              "         [3.],\n",
              "         [4.],\n",
              "         [5.],\n",
              "         [6.],\n",
              "         [7.],\n",
              "         [8.],\n",
              "         [9.]]),\n",
              " torch.Size([9, 1]))"
            ]
          },
          "metadata": {},
          "execution_count": 186
        }
      ]
    },
    {
      "cell_type": "code",
      "source": [
        "x_reshaped=x.reshape(3,3) #3 *3=9 tai\n",
        "x_reshaped"
      ],
      "metadata": {
        "id": "7pp8y-Bi_biE",
        "colab": {
          "base_uri": "https://localhost:8080/"
        },
        "outputId": "391e75ae-2b7b-4320-debb-34212d4f74e0"
      },
      "execution_count": null,
      "outputs": [
        {
          "output_type": "execute_result",
          "data": {
            "text/plain": [
              "tensor([[1., 2., 3.],\n",
              "        [4., 5., 6.],\n",
              "        [7., 8., 9.]])"
            ]
          },
          "metadata": {},
          "execution_count": 187
        }
      ]
    },
    {
      "cell_type": "markdown",
      "source": [
        "#Change the view"
      ],
      "metadata": {
        "id": "3kbwMj-dTEVA"
      }
    },
    {
      "cell_type": "code",
      "source": [
        "z=x.view(1,9)\n",
        "z, z.shape"
      ],
      "metadata": {
        "id": "PD0B5fNQAKYP",
        "colab": {
          "base_uri": "https://localhost:8080/"
        },
        "outputId": "6f60720b-c916-4431-8051-caa474253add"
      },
      "execution_count": null,
      "outputs": [
        {
          "output_type": "execute_result",
          "data": {
            "text/plain": [
              "(tensor([[1., 2., 3., 4., 5., 6., 7., 8., 9.]]), torch.Size([1, 9]))"
            ]
          },
          "metadata": {},
          "execution_count": 188
        }
      ]
    },
    {
      "cell_type": "code",
      "source": [
        "#z ar x same. Changing z changes x because a view of  a tensor shared the same memory as the original\n",
        "\n",
        "z[:,0]=7 #1st element k target korse index 1 k change korbe baki gula ager moto arange() kaj korbe \n",
        "z,x"
      ],
      "metadata": {
        "id": "a3gGflUNARMz",
        "colab": {
          "base_uri": "https://localhost:8080/"
        },
        "outputId": "ec18ffb6-0be3-4341-9f35-115594d8e121"
      },
      "execution_count": null,
      "outputs": [
        {
          "output_type": "execute_result",
          "data": {
            "text/plain": [
              "(tensor([[7., 2., 3., 4., 5., 6., 7., 8., 9.]]),\n",
              " tensor([7., 2., 3., 4., 5., 6., 7., 8., 9.]))"
            ]
          },
          "metadata": {},
          "execution_count": 189
        }
      ]
    },
    {
      "cell_type": "markdown",
      "source": [
        "#Stack tensors on top of each other"
      ],
      "metadata": {
        "id": "3JwHSg0pTZYZ"
      }
    },
    {
      "cell_type": "code",
      "source": [
        "\n",
        "x_stacked= torch.stack([x, x, x, x], dim=0)\n",
        "x_stacked\n",
        "#vertically pelam"
      ],
      "metadata": {
        "id": "C1wqs2DZBBcv",
        "colab": {
          "base_uri": "https://localhost:8080/"
        },
        "outputId": "d472b563-6415-4dd0-b21c-9af34bf84f23"
      },
      "execution_count": null,
      "outputs": [
        {
          "output_type": "execute_result",
          "data": {
            "text/plain": [
              "tensor([[7., 2., 3., 4., 5., 6., 7., 8., 9.],\n",
              "        [7., 2., 3., 4., 5., 6., 7., 8., 9.],\n",
              "        [7., 2., 3., 4., 5., 6., 7., 8., 9.],\n",
              "        [7., 2., 3., 4., 5., 6., 7., 8., 9.]])"
            ]
          },
          "metadata": {},
          "execution_count": 190
        }
      ]
    },
    {
      "cell_type": "code",
      "source": [
        "#stack tensors on top of each other\n",
        "x_stacked= torch.stack([x, x, x, x], dim=1)\n",
        "x_stacked"
      ],
      "metadata": {
        "id": "BI3uSH5FCBVs",
        "colab": {
          "base_uri": "https://localhost:8080/"
        },
        "outputId": "31595d48-85e1-4fe6-89d2-e636a3e18075"
      },
      "execution_count": null,
      "outputs": [
        {
          "output_type": "execute_result",
          "data": {
            "text/plain": [
              "tensor([[7., 7., 7., 7.],\n",
              "        [2., 2., 2., 2.],\n",
              "        [3., 3., 3., 3.],\n",
              "        [4., 4., 4., 4.],\n",
              "        [5., 5., 5., 5.],\n",
              "        [6., 6., 6., 6.],\n",
              "        [7., 7., 7., 7.],\n",
              "        [8., 8., 8., 8.],\n",
              "        [9., 9., 9., 9.]])"
            ]
          },
          "metadata": {},
          "execution_count": 191
        }
      ]
    },
    {
      "cell_type": "markdown",
      "source": [
        "#Squeeze\n",
        "Returns a tensor with all specified dimensions of input of size 1 removed.\n",
        "\n"
      ],
      "metadata": {
        "id": "gjT7dXHrThFN"
      }
    },
    {
      "cell_type": "code",
      "source": [
        " q=torch.arange(1.,9)\n",
        " p=q.reshape(8,1)\n",
        " p,p.shape"
      ],
      "metadata": {
        "id": "qUo42CxLGGyu",
        "colab": {
          "base_uri": "https://localhost:8080/"
        },
        "outputId": "b1f36fec-26f5-4f70-a0cf-180f0e02b730"
      },
      "execution_count": null,
      "outputs": [
        {
          "output_type": "execute_result",
          "data": {
            "text/plain": [
              "(tensor([[1.],\n",
              "         [2.],\n",
              "         [3.],\n",
              "         [4.],\n",
              "         [5.],\n",
              "         [6.],\n",
              "         [7.],\n",
              "         [8.]]),\n",
              " torch.Size([8, 1]))"
            ]
          },
          "metadata": {},
          "execution_count": 192
        }
      ]
    },
    {
      "cell_type": "code",
      "source": [
        "print(f\"previoous tensor: {p}\")\n",
        "print(f\"previous shape:{p.shape}\")\n",
        "#removing extra dimensions from p\n",
        "p_squeezed=p.squeeze()\n",
        "print(f\"new tensos:{p_squeezed}\")\n",
        "print(f\"New shape:{p_squeezed.shape}\")"
      ],
      "metadata": {
        "id": "aQG9CGsHIX_y",
        "colab": {
          "base_uri": "https://localhost:8080/"
        },
        "outputId": "85bcba91-92ce-41a8-fea3-5f4ba296362e"
      },
      "execution_count": null,
      "outputs": [
        {
          "output_type": "stream",
          "name": "stdout",
          "text": [
            "previoous tensor: tensor([[1.],\n",
            "        [2.],\n",
            "        [3.],\n",
            "        [4.],\n",
            "        [5.],\n",
            "        [6.],\n",
            "        [7.],\n",
            "        [8.]])\n",
            "previous shape:torch.Size([8, 1])\n",
            "new tensos:tensor([1., 2., 3., 4., 5., 6., 7., 8.])\n",
            "New shape:torch.Size([8])\n"
          ]
        }
      ]
    },
    {
      "cell_type": "code",
      "source": [
        "print(f\"previoous tensor: {p_squeezed}\")\n",
        "print(f\"previous shape:{p_squeezed}\")\n",
        "\n",
        "p_unsqueezed=p.unsqueeze(dim=1)\n",
        "print(f\"new tensos:{p_unsqueezed}\")\n",
        "print(f\"New shape:{p_unsqueezed.shape}\")"
      ],
      "metadata": {
        "id": "ojenIAlYI6N9",
        "colab": {
          "base_uri": "https://localhost:8080/"
        },
        "outputId": "330fafb7-d3c7-47de-f523-b11adcd883ff"
      },
      "execution_count": null,
      "outputs": [
        {
          "output_type": "stream",
          "name": "stdout",
          "text": [
            "previoous tensor: tensor([1., 2., 3., 4., 5., 6., 7., 8.])\n",
            "previous shape:tensor([1., 2., 3., 4., 5., 6., 7., 8.])\n",
            "new tensos:tensor([[[1.]],\n",
            "\n",
            "        [[2.]],\n",
            "\n",
            "        [[3.]],\n",
            "\n",
            "        [[4.]],\n",
            "\n",
            "        [[5.]],\n",
            "\n",
            "        [[6.]],\n",
            "\n",
            "        [[7.]],\n",
            "\n",
            "        [[8.]]])\n",
            "New shape:torch.Size([8, 1, 1])\n"
          ]
        }
      ]
    },
    {
      "cell_type": "code",
      "source": [
        "print(f\"previoous tensor: {p_squeezed}\")\n",
        "print(f\"previous shape:{p_squeezed.shape}\")\n",
        "#unsqueeze te dimension is mustttttttt\n",
        "#add an extra dimension with unsqueeze\n",
        "p_unsqueezed=p.unsqueeze(dim=0)\n",
        "print(f\"new tensos:{p_unsqueezed}\")\n",
        "print(f\"New shape:{p_unsqueezed.shape}\")"
      ],
      "metadata": {
        "id": "4bf9vA7qUM2j",
        "colab": {
          "base_uri": "https://localhost:8080/"
        },
        "outputId": "517e07e4-f1de-4f6c-e0db-0d8cf1ab0758"
      },
      "execution_count": null,
      "outputs": [
        {
          "output_type": "stream",
          "name": "stdout",
          "text": [
            "previoous tensor: tensor([1., 2., 3., 4., 5., 6., 7., 8.])\n",
            "previous shape:torch.Size([8])\n",
            "new tensos:tensor([[[1.],\n",
            "         [2.],\n",
            "         [3.],\n",
            "         [4.],\n",
            "         [5.],\n",
            "         [6.],\n",
            "         [7.],\n",
            "         [8.]]])\n",
            "New shape:torch.Size([1, 8, 1])\n"
          ]
        }
      ]
    },
    {
      "cell_type": "code",
      "source": [
        "print(f\"previoous tensor: {p_squeezed}\")\n",
        "print(f\"previous shape:{p_squeezed.shape}\")\n",
        "#unsqueeze te dimension is mustttttttt\n",
        "#add an extra dimension with unsqueeze\n",
        "p_unsqueezed=p.unsqueeze(dim=1)\n",
        "print(f\"new tensos:{p_unsqueezed}\")\n",
        "print(f\"New shape:{p_unsqueezed.shape}\")"
      ],
      "metadata": {
        "colab": {
          "base_uri": "https://localhost:8080/"
        },
        "id": "l0V5ql4LUbg8",
        "outputId": "3440bd22-1565-4d48-b741-4444f087236a"
      },
      "execution_count": null,
      "outputs": [
        {
          "output_type": "stream",
          "name": "stdout",
          "text": [
            "previoous tensor: tensor([1., 2., 3., 4., 5., 6., 7., 8.])\n",
            "previous shape:torch.Size([8])\n",
            "new tensos:tensor([[[1.]],\n",
            "\n",
            "        [[2.]],\n",
            "\n",
            "        [[3.]],\n",
            "\n",
            "        [[4.]],\n",
            "\n",
            "        [[5.]],\n",
            "\n",
            "        [[6.]],\n",
            "\n",
            "        [[7.]],\n",
            "\n",
            "        [[8.]]])\n",
            "New shape:torch.Size([8, 1, 1])\n"
          ]
        }
      ]
    },
    {
      "cell_type": "markdown",
      "source": [
        "#Permute\n",
        "torch.permute - rearrange the dimensions of a  target tensor in a specified order"
      ],
      "metadata": {
        "id": "5LbwBop_TwEE"
      }
    },
    {
      "cell_type": "code",
      "source": [
        "e=torch.rand(size=(224,224,4)) #height, width, color_chanels>rgb\n",
        "\n",
        "e"
      ],
      "metadata": {
        "id": "l5TBthctYRPO",
        "colab": {
          "base_uri": "https://localhost:8080/"
        },
        "outputId": "2089ab56-cf90-4f57-e5f0-355966f3ee2f"
      },
      "execution_count": null,
      "outputs": [
        {
          "output_type": "execute_result",
          "data": {
            "text/plain": [
              "tensor([[[0.5609, 0.6146, 0.8183, 0.7102],\n",
              "         [0.1790, 0.0252, 0.0704, 0.0823],\n",
              "         [0.4287, 0.7099, 0.6111, 0.5480],\n",
              "         ...,\n",
              "         [0.0275, 0.8692, 0.4003, 0.4954],\n",
              "         [0.6623, 0.2633, 0.8249, 0.2236],\n",
              "         [0.7869, 0.0282, 0.6458, 0.2152]],\n",
              "\n",
              "        [[0.7261, 0.3689, 0.5348, 0.1968],\n",
              "         [0.9641, 0.7528, 0.9822, 0.1342],\n",
              "         [0.9237, 0.8159, 0.9548, 0.4691],\n",
              "         ...,\n",
              "         [0.9640, 0.4790, 0.0097, 0.8960],\n",
              "         [0.2922, 0.0384, 0.9384, 0.4142],\n",
              "         [0.6834, 0.9657, 0.4116, 0.3323]],\n",
              "\n",
              "        [[0.8525, 0.2209, 0.8879, 0.1005],\n",
              "         [0.4014, 0.0272, 0.1994, 0.5012],\n",
              "         [0.0513, 0.9324, 0.9001, 0.8508],\n",
              "         ...,\n",
              "         [0.5186, 0.5873, 0.7386, 0.7892],\n",
              "         [0.3753, 0.2618, 0.0785, 0.4493],\n",
              "         [0.8621, 0.6699, 0.6445, 0.6563]],\n",
              "\n",
              "        ...,\n",
              "\n",
              "        [[0.4150, 0.9424, 0.8902, 0.4040],\n",
              "         [0.2044, 0.8803, 0.1468, 0.6453],\n",
              "         [0.7823, 0.7305, 0.9386, 0.2069],\n",
              "         ...,\n",
              "         [0.8979, 0.8815, 0.3711, 0.6169],\n",
              "         [0.5288, 0.8696, 0.5966, 0.9152],\n",
              "         [0.9980, 0.6949, 0.6515, 0.3377]],\n",
              "\n",
              "        [[0.5508, 0.3300, 0.6702, 0.9489],\n",
              "         [0.2552, 0.3724, 0.2105, 0.8446],\n",
              "         [0.7067, 0.8890, 0.5558, 0.7956],\n",
              "         ...,\n",
              "         [0.0739, 0.7724, 0.5149, 0.2417],\n",
              "         [0.8149, 0.2589, 0.9228, 0.3914],\n",
              "         [0.4827, 0.9636, 0.1292, 0.4605]],\n",
              "\n",
              "        [[0.6612, 0.1062, 0.1513, 0.8212],\n",
              "         [0.2437, 0.2080, 0.2676, 0.4850],\n",
              "         [0.0431, 0.3568, 0.3126, 0.9655],\n",
              "         ...,\n",
              "         [0.2287, 0.2346, 0.7561, 0.2326],\n",
              "         [0.4675, 0.3060, 0.4020, 0.0559],\n",
              "         [0.8676, 0.9623, 0.6164, 0.3522]]])"
            ]
          },
          "metadata": {},
          "execution_count": 197
        }
      ]
    },
    {
      "cell_type": "code",
      "source": [
        "#permute the q in different way...we want colorchanel, height, width\n",
        "\n",
        "e_permuted=e.permute(2, 0, 1)\n",
        "\n",
        "print(f\"previous shape: {e.shape}\")\n",
        "print(f\"new shape: {e_permuted.shape}\")"
      ],
      "metadata": {
        "colab": {
          "base_uri": "https://localhost:8080/"
        },
        "id": "AZYtcs_NYpxI",
        "outputId": "519e99ae-6acc-47a4-e35e-60fe767a4cce"
      },
      "execution_count": null,
      "outputs": [
        {
          "output_type": "stream",
          "name": "stdout",
          "text": [
            "previous shape: torch.Size([224, 224, 4])\n",
            "new shape: torch.Size([4, 224, 224])\n"
          ]
        }
      ]
    },
    {
      "cell_type": "code",
      "source": [
        "e[:,0,0]"
      ],
      "metadata": {
        "colab": {
          "base_uri": "https://localhost:8080/"
        },
        "id": "gACwQ2aZZHnQ",
        "outputId": "79ad9cf9-97d9-4bb9-9c1f-84dac66e3076"
      },
      "execution_count": null,
      "outputs": [
        {
          "output_type": "execute_result",
          "data": {
            "text/plain": [
              "tensor([0.5609, 0.7261, 0.8525, 0.0099, 0.7513, 0.2946, 0.5353, 0.4378, 0.3273,\n",
              "        0.4844, 0.1599, 0.8605, 0.3444, 0.4255, 0.6404, 0.5917, 0.3983, 0.0051,\n",
              "        0.3460, 0.7199, 0.7036, 0.2244, 0.5276, 0.4980, 0.6576, 0.2656, 0.8504,\n",
              "        0.5776, 0.2342, 0.4734, 0.2879, 0.9852, 0.2168, 0.5826, 0.9546, 0.2486,\n",
              "        0.2972, 0.9470, 0.3560, 0.0426, 0.7441, 0.3253, 0.4073, 0.2831, 0.0456,\n",
              "        0.5060, 0.4877, 0.6997, 0.0903, 0.8383, 0.0037, 0.3180, 0.7479, 0.5924,\n",
              "        0.8003, 0.1278, 0.2312, 0.1548, 0.3900, 0.2508, 0.8402, 0.1606, 0.8863,\n",
              "        0.6369, 0.5246, 0.3847, 0.2362, 0.0376, 0.4576, 0.5184, 0.4378, 0.3801,\n",
              "        0.2931, 0.2185, 0.4856, 0.6284, 0.1603, 0.6257, 0.4717, 0.8716, 0.0129,\n",
              "        0.5346, 0.2681, 0.1499, 0.0822, 0.2574, 0.1058, 0.4708, 0.8420, 0.5912,\n",
              "        0.8197, 0.9385, 0.8170, 0.3127, 0.4406, 0.8687, 0.0465, 0.2359, 0.3918,\n",
              "        0.6608, 0.0414, 0.8432, 0.5486, 0.1104, 0.3910, 0.3150, 0.0905, 0.7413,\n",
              "        0.3587, 0.1415, 0.6614, 0.6458, 0.8791, 0.5735, 0.8712, 0.5324, 0.6894,\n",
              "        0.2039, 0.9920, 0.6756, 0.3912, 0.3141, 0.1009, 0.3761, 0.4947, 0.9272,\n",
              "        0.3832, 0.5310, 0.1663, 0.1377, 0.3586, 0.4191, 0.7422, 0.2565, 0.4126,\n",
              "        0.3270, 0.9385, 0.3086, 0.2642, 0.3471, 0.4916, 0.2709, 0.5375, 0.1500,\n",
              "        0.1178, 0.7165, 0.9427, 0.9936, 0.0403, 0.2942, 0.2306, 0.8022, 0.4042,\n",
              "        0.8231, 0.3930, 0.3481, 0.0550, 0.2505, 0.9021, 0.7422, 0.1859, 0.5644,\n",
              "        0.0179, 0.1429, 0.7565, 0.9994, 0.6782, 0.5842, 0.4277, 0.3126, 0.7626,\n",
              "        0.5486, 0.2302, 0.7533, 0.9573, 0.7335, 0.0929, 0.6689, 0.9352, 0.4421,\n",
              "        0.6813, 0.9081, 0.2513, 0.3467, 0.8049, 0.4216, 0.7590, 0.0871, 0.6615,\n",
              "        0.1427, 0.3683, 0.9087, 0.5698, 0.5793, 0.9707, 0.1671, 0.0223, 0.4503,\n",
              "        0.6604, 0.8392, 0.8487, 0.1969, 0.7220, 0.3330, 0.9032, 0.5672, 0.0179,\n",
              "        0.2949, 0.9565, 0.6137, 0.0161, 0.3756, 0.7365, 0.9921, 0.0571, 0.8432,\n",
              "        0.8603, 0.9575, 0.0766, 0.4198, 0.5379, 0.4150, 0.5508, 0.6612])"
            ]
          },
          "metadata": {},
          "execution_count": 199
        }
      ]
    },
    {
      "cell_type": "code",
      "source": [
        "#if we want to change the value"
      ],
      "metadata": {
        "id": "3_pqmU5baIAE"
      },
      "execution_count": null,
      "outputs": []
    },
    {
      "cell_type": "code",
      "source": [
        "e[0,0,0]"
      ],
      "metadata": {
        "colab": {
          "base_uri": "https://localhost:8080/"
        },
        "id": "UTzqPLgSaZgO",
        "outputId": "da96f55b-cd4e-4987-a562-56eae09943b0"
      },
      "execution_count": null,
      "outputs": [
        {
          "output_type": "execute_result",
          "data": {
            "text/plain": [
              "tensor(0.5609)"
            ]
          },
          "metadata": {},
          "execution_count": 201
        }
      ]
    },
    {
      "cell_type": "code",
      "source": [
        "e[0,0,0]=0.1452"
      ],
      "metadata": {
        "id": "2QXazJUKadIQ"
      },
      "execution_count": null,
      "outputs": []
    },
    {
      "cell_type": "code",
      "source": [
        "e[0,0,0] #updated"
      ],
      "metadata": {
        "colab": {
          "base_uri": "https://localhost:8080/"
        },
        "id": "_7QzJfIeaimD",
        "outputId": "686c5543-7146-4fd8-8c24-943c44c75627"
      },
      "execution_count": null,
      "outputs": [
        {
          "output_type": "execute_result",
          "data": {
            "text/plain": [
              "tensor(0.1452)"
            ]
          },
          "metadata": {},
          "execution_count": 203
        }
      ]
    },
    {
      "cell_type": "markdown",
      "source": [
        "#Selecting Data from indexing (INDEXING)\n",
        "\n",
        "same as numpy\n",
        "\n"
      ],
      "metadata": {
        "id": "ZYJ6zZOqavbe"
      }
    },
    {
      "cell_type": "code",
      "source": [
        "import torch"
      ],
      "metadata": {
        "id": "_U7A9YDta3R1"
      },
      "execution_count": null,
      "outputs": []
    },
    {
      "cell_type": "code",
      "source": [
        "index=torch.arange(1,10).reshape(1,3,3)\n",
        "index, index.shape"
      ],
      "metadata": {
        "colab": {
          "base_uri": "https://localhost:8080/"
        },
        "id": "SEElShd_bEkf",
        "outputId": "fc39daae-e11b-4a2d-f004-31a9b088efc3"
      },
      "execution_count": null,
      "outputs": [
        {
          "output_type": "execute_result",
          "data": {
            "text/plain": [
              "(tensor([[[1, 2, 3],\n",
              "          [4, 5, 6],\n",
              "          [7, 8, 9]]]),\n",
              " torch.Size([1, 3, 3]))"
            ]
          },
          "metadata": {},
          "execution_count": 205
        }
      ]
    },
    {
      "cell_type": "code",
      "source": [
        "index[0] #gives us middle tensor"
      ],
      "metadata": {
        "colab": {
          "base_uri": "https://localhost:8080/"
        },
        "id": "Z4jMBEzhbQgt",
        "outputId": "6ac602fb-a60d-4ba0-f37a-4214002cf6d2"
      },
      "execution_count": null,
      "outputs": [
        {
          "output_type": "execute_result",
          "data": {
            "text/plain": [
              "tensor([[1, 2, 3],\n",
              "        [4, 5, 6],\n",
              "        [7, 8, 9]])"
            ]
          },
          "metadata": {},
          "execution_count": 206
        }
      ]
    },
    {
      "cell_type": "code",
      "source": [
        "index[0,0] #index on middle brackett index[0][0] ebhabeo hobe ...>>> gives us 0th index"
      ],
      "metadata": {
        "colab": {
          "base_uri": "https://localhost:8080/"
        },
        "id": "h5uHbXc1bySZ",
        "outputId": "5cd6affc-7202-4944-e0fd-da2807f21bed"
      },
      "execution_count": null,
      "outputs": [
        {
          "output_type": "execute_result",
          "data": {
            "text/plain": [
              "tensor([1, 2, 3])"
            ]
          },
          "metadata": {},
          "execution_count": 207
        }
      ]
    },
    {
      "cell_type": "code",
      "source": [
        "index[0,0,0] #index on last bracket ......Oth tensor, 0Th index, 0th element"
      ],
      "metadata": {
        "colab": {
          "base_uri": "https://localhost:8080/"
        },
        "id": "WKQJIFBWb_up",
        "outputId": "e0caae2e-b1e5-4fee-a977-37ba6ed48180"
      },
      "execution_count": null,
      "outputs": [
        {
          "output_type": "execute_result",
          "data": {
            "text/plain": [
              "tensor(1)"
            ]
          },
          "metadata": {},
          "execution_count": 208
        }
      ]
    },
    {
      "cell_type": "code",
      "source": [
        "index[0][1][1]"
      ],
      "metadata": {
        "colab": {
          "base_uri": "https://localhost:8080/"
        },
        "id": "KMMVcAOqcFq0",
        "outputId": "83a831cd-c136-410b-8a4e-b5bcf4827fda"
      },
      "execution_count": null,
      "outputs": [
        {
          "output_type": "execute_result",
          "data": {
            "text/plain": [
              "tensor(5)"
            ]
          },
          "metadata": {},
          "execution_count": 209
        }
      ]
    },
    {
      "cell_type": "code",
      "source": [
        "index[:,0] #you can also use \":\" to select all of a targer dimension"
      ],
      "metadata": {
        "colab": {
          "base_uri": "https://localhost:8080/"
        },
        "id": "evq_czjRcqRp",
        "outputId": "1b4913d2-0f35-42e7-feaa-f823b55f4d29"
      },
      "execution_count": null,
      "outputs": [
        {
          "output_type": "execute_result",
          "data": {
            "text/plain": [
              "tensor([[1, 2, 3]])"
            ]
          },
          "metadata": {},
          "execution_count": 210
        }
      ]
    },
    {
      "cell_type": "code",
      "source": [
        "index[:,:,1] #get all values of the 0th and 1st dimensions but only index 1 of 2nd dimension"
      ],
      "metadata": {
        "colab": {
          "base_uri": "https://localhost:8080/"
        },
        "id": "daRDtS3Udc43",
        "outputId": "dafc465a-1729-43c0-c53f-2237f341e456"
      },
      "execution_count": null,
      "outputs": [
        {
          "output_type": "execute_result",
          "data": {
            "text/plain": [
              "tensor([[2, 5, 8]])"
            ]
          },
          "metadata": {},
          "execution_count": 211
        }
      ]
    },
    {
      "cell_type": "code",
      "source": [
        "#get all values of the 0th and 1st dimensions but only 1 index value of 1st and 2nd dimension\n",
        "index[:,1,1] #semicolon er jonno 3rd bracket ta ashbe index[0][1][1] ekhane ashbe na"
      ],
      "metadata": {
        "colab": {
          "base_uri": "https://localhost:8080/"
        },
        "id": "nMofar_cd_lS",
        "outputId": "9f220646-d5ee-4ca3-e51c-0f2f6be82850"
      },
      "execution_count": null,
      "outputs": [
        {
          "output_type": "execute_result",
          "data": {
            "text/plain": [
              "tensor([5])"
            ]
          },
          "metadata": {},
          "execution_count": 212
        }
      ]
    },
    {
      "cell_type": "code",
      "source": [
        "#get index 0 of 0th and 1st dimension and all the values of 2nd dimension\n",
        "\n",
        "index[0,0,:]"
      ],
      "metadata": {
        "colab": {
          "base_uri": "https://localhost:8080/"
        },
        "id": "4grF12O_ebMR",
        "outputId": "43e2539a-af2d-4ac7-d010-a684444bfc47"
      },
      "execution_count": null,
      "outputs": [
        {
          "output_type": "execute_result",
          "data": {
            "text/plain": [
              "tensor([1, 2, 3])"
            ]
          },
          "metadata": {},
          "execution_count": 213
        }
      ]
    },
    {
      "cell_type": "code",
      "source": [
        "#find out the value 9\n",
        "\n",
        "index[0,2,2]"
      ],
      "metadata": {
        "colab": {
          "base_uri": "https://localhost:8080/"
        },
        "id": "GwnH9x4ne42T",
        "outputId": "17f59260-6304-4b0b-ac60-78a7b64717b0"
      },
      "execution_count": null,
      "outputs": [
        {
          "output_type": "execute_result",
          "data": {
            "text/plain": [
              "tensor(9)"
            ]
          },
          "metadata": {},
          "execution_count": 214
        }
      ]
    },
    {
      "cell_type": "code",
      "source": [
        "#return 3,6,9\n",
        "index[:,:,2]"
      ],
      "metadata": {
        "colab": {
          "base_uri": "https://localhost:8080/"
        },
        "id": "KOzjjqFOfSgJ",
        "outputId": "0079c5ac-b6bc-4730-9942-fe72faf83c74"
      },
      "execution_count": null,
      "outputs": [
        {
          "output_type": "execute_result",
          "data": {
            "text/plain": [
              "tensor([[3, 6, 9]])"
            ]
          },
          "metadata": {},
          "execution_count": 215
        }
      ]
    },
    {
      "cell_type": "markdown",
      "source": [
        "#Pytorch Tensors & Numpy\n",
        "Numpy is popular scientific Python numerical computing library.\n",
        "and because of this, PyTorch has functionality to interact with it.\n",
        "\n",
        "1.   Data in Numpy, want in Pytorch tensor..> torch.from_numpy(ndarray)\n",
        "\n",
        "\n",
        "2.   PyTorch tensor -> NumPy -> torch.Tensor.numoy() \n",
        "\n",
        "\n",
        "\n",
        "\n"
      ],
      "metadata": {
        "id": "mzcNLrGyfr8m"
      }
    },
    {
      "cell_type": "code",
      "source": [
        "import torch\n",
        "import numpy as np\n",
        "array= np.arange(1.0, 8.0)\n",
        "tensor= torch.from_numpy(array)\n",
        "array, tensor  #numpy er default data type is float64 but tensor e data type float32 ...--> tensor= torch.from_numpy(array).type(torch.float32) likhe dile float e 32 te ashbe"
      ],
      "metadata": {
        "colab": {
          "base_uri": "https://localhost:8080/"
        },
        "id": "teogKFRjfepY",
        "outputId": "8fade3b0-c109-42f7-f7c8-7396bf63e607"
      },
      "execution_count": null,
      "outputs": [
        {
          "output_type": "execute_result",
          "data": {
            "text/plain": [
              "(array([1., 2., 3., 4., 5., 6., 7.]),\n",
              " tensor([1., 2., 3., 4., 5., 6., 7.], dtype=torch.float64))"
            ]
          },
          "metadata": {},
          "execution_count": 216
        }
      ]
    },
    {
      "cell_type": "code",
      "source": [
        "  #change the value of array, tensor change hobe na\n",
        "  array =array+1\n",
        "  array, tensor"
      ],
      "metadata": {
        "colab": {
          "base_uri": "https://localhost:8080/"
        },
        "id": "qsFo4nTvgpDb",
        "outputId": "fb70a837-7a9a-49e5-aa46-0a8d0a483232"
      },
      "execution_count": null,
      "outputs": [
        {
          "output_type": "execute_result",
          "data": {
            "text/plain": [
              "(array([2., 3., 4., 5., 6., 7., 8.]),\n",
              " tensor([1., 2., 3., 4., 5., 6., 7.], dtype=torch.float64))"
            ]
          },
          "metadata": {},
          "execution_count": 217
        }
      ]
    },
    {
      "cell_type": "code",
      "source": [
        "#tensor to numpy array\n",
        "tensor=torch.ones(7)\n",
        "numpy_tensor=tensor.numpy() #datatype tensor er default ta ashbe\n",
        "tensor, numpy_tensor"
      ],
      "metadata": {
        "colab": {
          "base_uri": "https://localhost:8080/"
        },
        "id": "nbYsKlOrh1FH",
        "outputId": "ba8b8eaf-1c1c-46e2-a30f-7cb670323ae2"
      },
      "execution_count": null,
      "outputs": [
        {
          "output_type": "execute_result",
          "data": {
            "text/plain": [
              "(tensor([1., 1., 1., 1., 1., 1., 1.]),\n",
              " array([1., 1., 1., 1., 1., 1., 1.], dtype=float32))"
            ]
          },
          "metadata": {},
          "execution_count": 218
        }
      ]
    },
    {
      "cell_type": "code",
      "source": [
        "#change the value of tensor\n",
        "tensor=tensor+1 #change hobe\n",
        "tensor, numpy_tensor#change hobena"
      ],
      "metadata": {
        "colab": {
          "base_uri": "https://localhost:8080/"
        },
        "id": "pQJ_b5rEiKkS",
        "outputId": "4c5ef8db-5346-4344-b9f0-b5a521cdb907"
      },
      "execution_count": null,
      "outputs": [
        {
          "output_type": "execute_result",
          "data": {
            "text/plain": [
              "(tensor([2., 2., 2., 2., 2., 2., 2.]),\n",
              " array([1., 1., 1., 1., 1., 1., 1.], dtype=float32))"
            ]
          },
          "metadata": {},
          "execution_count": 219
        }
      ]
    },
    {
      "cell_type": "code",
      "source": [],
      "metadata": {
        "id": "6Ue-M8amia-U"
      },
      "execution_count": null,
      "outputs": []
    },
    {
      "cell_type": "code",
      "source": [],
      "metadata": {
        "id": "ZFqHC7JHHCT-"
      },
      "execution_count": null,
      "outputs": []
    }
  ]
}